{
 "cells": [
  {
   "cell_type": "markdown",
   "metadata": {},
   "source": [
    "## NBA Statistics Friday Project: Classification of Shot Distances\n",
    "\n",
    "##### This is a project to assess if the NBA's classification of shot distances is good. Currently the categories are: <5 ft, 5-9 ft, 10-14 ft, 15-19 ft, 20-24 ft, and 25-29 ft. These classifications could help us better understand the categories of the types of shots taken by distance. We're going to use only shots that were made so we classify shot distances of shots that were completed at a statistically high rate in the NBA."
   ]
  },
  {
   "cell_type": "code",
   "execution_count": 39,
   "metadata": {},
   "outputs": [],
   "source": [
    "# from mpl_toolkits.mplot3d import Axes3D\n",
    "from sklearn.preprocessing import StandardScaler\n",
    "from matplotlib import pyplot as plt # plotting\n",
    "import numpy as np # linear algebra\n",
    "import os # accessing directory structure\n",
    "import pandas as pd\n",
    "from scipy import stats\n",
    "from sklearn.cluster import DBSCAN"
   ]
  },
  {
   "cell_type": "code",
   "execution_count": 40,
   "metadata": {},
   "outputs": [
    {
     "data": {
      "text/html": [
       "<div>\n",
       "<style scoped>\n",
       "    .dataframe tbody tr th:only-of-type {\n",
       "        vertical-align: middle;\n",
       "    }\n",
       "\n",
       "    .dataframe tbody tr th {\n",
       "        vertical-align: top;\n",
       "    }\n",
       "\n",
       "    .dataframe thead th {\n",
       "        text-align: right;\n",
       "    }\n",
       "</style>\n",
       "<table border=\"1\" class=\"dataframe\">\n",
       "  <thead>\n",
       "    <tr style=\"text-align: right;\">\n",
       "      <th></th>\n",
       "      <th>URL</th>\n",
       "      <th>GameType</th>\n",
       "      <th>Location</th>\n",
       "      <th>Date</th>\n",
       "      <th>Time</th>\n",
       "      <th>WinningTeam</th>\n",
       "      <th>Quarter</th>\n",
       "      <th>SecLeft</th>\n",
       "      <th>AwayTeam</th>\n",
       "      <th>AwayPlay</th>\n",
       "      <th>...</th>\n",
       "      <th>FreeThrowNum</th>\n",
       "      <th>EnterGame</th>\n",
       "      <th>LeaveGame</th>\n",
       "      <th>TurnoverPlayer</th>\n",
       "      <th>TurnoverType</th>\n",
       "      <th>TurnoverCause</th>\n",
       "      <th>TurnoverCauser</th>\n",
       "      <th>JumpballAwayPlayer</th>\n",
       "      <th>JumpballHomePlayer</th>\n",
       "      <th>JumpballPoss</th>\n",
       "    </tr>\n",
       "  </thead>\n",
       "  <tbody>\n",
       "    <tr>\n",
       "      <th>0</th>\n",
       "      <td>/boxscores/201810160BOS.html</td>\n",
       "      <td>regular</td>\n",
       "      <td>TD Garden Boston Massachusetts</td>\n",
       "      <td>October 16 2018</td>\n",
       "      <td>8:00 PM</td>\n",
       "      <td>BOS</td>\n",
       "      <td>1</td>\n",
       "      <td>720</td>\n",
       "      <td>PHI</td>\n",
       "      <td>Jump ball: J. Embiid vs. A. Horford (B. Simmon...</td>\n",
       "      <td>...</td>\n",
       "      <td>NaN</td>\n",
       "      <td>NaN</td>\n",
       "      <td>NaN</td>\n",
       "      <td>NaN</td>\n",
       "      <td>NaN</td>\n",
       "      <td>NaN</td>\n",
       "      <td>NaN</td>\n",
       "      <td>J. Embiid - PHI</td>\n",
       "      <td>A. Horford - BOS</td>\n",
       "      <td>B. Simmons</td>\n",
       "    </tr>\n",
       "    <tr>\n",
       "      <th>1</th>\n",
       "      <td>/boxscores/201810160BOS.html</td>\n",
       "      <td>regular</td>\n",
       "      <td>TD Garden Boston Massachusetts</td>\n",
       "      <td>October 16 2018</td>\n",
       "      <td>8:00 PM</td>\n",
       "      <td>BOS</td>\n",
       "      <td>1</td>\n",
       "      <td>700</td>\n",
       "      <td>PHI</td>\n",
       "      <td>R. Covington misses 3-pt jump shot from 27 ft</td>\n",
       "      <td>...</td>\n",
       "      <td>NaN</td>\n",
       "      <td>NaN</td>\n",
       "      <td>NaN</td>\n",
       "      <td>NaN</td>\n",
       "      <td>NaN</td>\n",
       "      <td>NaN</td>\n",
       "      <td>NaN</td>\n",
       "      <td>NaN</td>\n",
       "      <td>NaN</td>\n",
       "      <td>NaN</td>\n",
       "    </tr>\n",
       "    <tr>\n",
       "      <th>2</th>\n",
       "      <td>/boxscores/201810160BOS.html</td>\n",
       "      <td>regular</td>\n",
       "      <td>TD Garden Boston Massachusetts</td>\n",
       "      <td>October 16 2018</td>\n",
       "      <td>8:00 PM</td>\n",
       "      <td>BOS</td>\n",
       "      <td>1</td>\n",
       "      <td>700</td>\n",
       "      <td>PHI</td>\n",
       "      <td>NaN</td>\n",
       "      <td>...</td>\n",
       "      <td>NaN</td>\n",
       "      <td>NaN</td>\n",
       "      <td>NaN</td>\n",
       "      <td>NaN</td>\n",
       "      <td>NaN</td>\n",
       "      <td>NaN</td>\n",
       "      <td>NaN</td>\n",
       "      <td>NaN</td>\n",
       "      <td>NaN</td>\n",
       "      <td>NaN</td>\n",
       "    </tr>\n",
       "    <tr>\n",
       "      <th>3</th>\n",
       "      <td>/boxscores/201810160BOS.html</td>\n",
       "      <td>regular</td>\n",
       "      <td>TD Garden Boston Massachusetts</td>\n",
       "      <td>October 16 2018</td>\n",
       "      <td>8:00 PM</td>\n",
       "      <td>BOS</td>\n",
       "      <td>1</td>\n",
       "      <td>675</td>\n",
       "      <td>PHI</td>\n",
       "      <td>NaN</td>\n",
       "      <td>...</td>\n",
       "      <td>NaN</td>\n",
       "      <td>NaN</td>\n",
       "      <td>NaN</td>\n",
       "      <td>NaN</td>\n",
       "      <td>NaN</td>\n",
       "      <td>NaN</td>\n",
       "      <td>NaN</td>\n",
       "      <td>NaN</td>\n",
       "      <td>NaN</td>\n",
       "      <td>NaN</td>\n",
       "    </tr>\n",
       "    <tr>\n",
       "      <th>4</th>\n",
       "      <td>/boxscores/201810160BOS.html</td>\n",
       "      <td>regular</td>\n",
       "      <td>TD Garden Boston Massachusetts</td>\n",
       "      <td>October 16 2018</td>\n",
       "      <td>8:00 PM</td>\n",
       "      <td>BOS</td>\n",
       "      <td>1</td>\n",
       "      <td>673</td>\n",
       "      <td>PHI</td>\n",
       "      <td>Defensive rebound by D. Saric</td>\n",
       "      <td>...</td>\n",
       "      <td>NaN</td>\n",
       "      <td>NaN</td>\n",
       "      <td>NaN</td>\n",
       "      <td>NaN</td>\n",
       "      <td>NaN</td>\n",
       "      <td>NaN</td>\n",
       "      <td>NaN</td>\n",
       "      <td>NaN</td>\n",
       "      <td>NaN</td>\n",
       "      <td>NaN</td>\n",
       "    </tr>\n",
       "  </tbody>\n",
       "</table>\n",
       "<p>5 rows × 40 columns</p>\n",
       "</div>"
      ],
      "text/plain": [
       "                            URL GameType                        Location  \\\n",
       "0  /boxscores/201810160BOS.html  regular  TD Garden Boston Massachusetts   \n",
       "1  /boxscores/201810160BOS.html  regular  TD Garden Boston Massachusetts   \n",
       "2  /boxscores/201810160BOS.html  regular  TD Garden Boston Massachusetts   \n",
       "3  /boxscores/201810160BOS.html  regular  TD Garden Boston Massachusetts   \n",
       "4  /boxscores/201810160BOS.html  regular  TD Garden Boston Massachusetts   \n",
       "\n",
       "              Date     Time WinningTeam  Quarter  SecLeft AwayTeam  \\\n",
       "0  October 16 2018  8:00 PM         BOS        1      720      PHI   \n",
       "1  October 16 2018  8:00 PM         BOS        1      700      PHI   \n",
       "2  October 16 2018  8:00 PM         BOS        1      700      PHI   \n",
       "3  October 16 2018  8:00 PM         BOS        1      675      PHI   \n",
       "4  October 16 2018  8:00 PM         BOS        1      673      PHI   \n",
       "\n",
       "                                            AwayPlay  ...  FreeThrowNum  \\\n",
       "0  Jump ball: J. Embiid vs. A. Horford (B. Simmon...  ...           NaN   \n",
       "1      R. Covington misses 3-pt jump shot from 27 ft  ...           NaN   \n",
       "2                                                NaN  ...           NaN   \n",
       "3                                                NaN  ...           NaN   \n",
       "4                      Defensive rebound by D. Saric  ...           NaN   \n",
       "\n",
       "  EnterGame LeaveGame  TurnoverPlayer TurnoverType TurnoverCause  \\\n",
       "0       NaN       NaN             NaN          NaN           NaN   \n",
       "1       NaN       NaN             NaN          NaN           NaN   \n",
       "2       NaN       NaN             NaN          NaN           NaN   \n",
       "3       NaN       NaN             NaN          NaN           NaN   \n",
       "4       NaN       NaN             NaN          NaN           NaN   \n",
       "\n",
       "  TurnoverCauser  JumpballAwayPlayer JumpballHomePlayer JumpballPoss  \n",
       "0            NaN     J. Embiid - PHI   A. Horford - BOS   B. Simmons  \n",
       "1            NaN                 NaN                NaN          NaN  \n",
       "2            NaN                 NaN                NaN          NaN  \n",
       "3            NaN                 NaN                NaN          NaN  \n",
       "4            NaN                 NaN                NaN          NaN  \n",
       "\n",
       "[5 rows x 40 columns]"
      ]
     },
     "execution_count": 40,
     "metadata": {},
     "output_type": "execute_result"
    }
   ],
   "source": [
    "playbyplayData = pd.read_csv(\"/Users/dereklee/ml-projects/NBA-PBP-2018-2019.csv\")\n",
    "playbyplayData.head(5)"
   ]
  },
  {
   "cell_type": "code",
   "execution_count": 41,
   "metadata": {},
   "outputs": [],
   "source": [
    "playbyplayData = playbyplayData[playbyplayData.ShotOutcome != \"miss\"]"
   ]
  },
  {
   "cell_type": "code",
   "execution_count": 42,
   "metadata": {},
   "outputs": [
    {
     "data": {
      "text/plain": [
       "(487325, 40)"
      ]
     },
     "execution_count": 42,
     "metadata": {},
     "output_type": "execute_result"
    }
   ],
   "source": [
    "playbyplayData.shape"
   ]
  },
  {
   "cell_type": "code",
   "execution_count": 43,
   "metadata": {},
   "outputs": [],
   "source": [
    "playbyplayData = playbyplayData.dropna(subset = [\"ShotOutcome\"])"
   ]
  },
  {
   "cell_type": "code",
   "execution_count": 44,
   "metadata": {},
   "outputs": [
    {
     "data": {
      "text/html": [
       "<div>\n",
       "<style scoped>\n",
       "    .dataframe tbody tr th:only-of-type {\n",
       "        vertical-align: middle;\n",
       "    }\n",
       "\n",
       "    .dataframe tbody tr th {\n",
       "        vertical-align: top;\n",
       "    }\n",
       "\n",
       "    .dataframe thead th {\n",
       "        text-align: right;\n",
       "    }\n",
       "</style>\n",
       "<table border=\"1\" class=\"dataframe\">\n",
       "  <thead>\n",
       "    <tr style=\"text-align: right;\">\n",
       "      <th></th>\n",
       "      <th>URL</th>\n",
       "      <th>GameType</th>\n",
       "      <th>Location</th>\n",
       "      <th>Date</th>\n",
       "      <th>Time</th>\n",
       "      <th>WinningTeam</th>\n",
       "      <th>Quarter</th>\n",
       "      <th>SecLeft</th>\n",
       "      <th>AwayTeam</th>\n",
       "      <th>AwayPlay</th>\n",
       "      <th>...</th>\n",
       "      <th>FreeThrowNum</th>\n",
       "      <th>EnterGame</th>\n",
       "      <th>LeaveGame</th>\n",
       "      <th>TurnoverPlayer</th>\n",
       "      <th>TurnoverType</th>\n",
       "      <th>TurnoverCause</th>\n",
       "      <th>TurnoverCauser</th>\n",
       "      <th>JumpballAwayPlayer</th>\n",
       "      <th>JumpballHomePlayer</th>\n",
       "      <th>JumpballPoss</th>\n",
       "    </tr>\n",
       "  </thead>\n",
       "  <tbody>\n",
       "    <tr>\n",
       "      <th>8</th>\n",
       "      <td>/boxscores/201810160BOS.html</td>\n",
       "      <td>regular</td>\n",
       "      <td>TD Garden Boston Massachusetts</td>\n",
       "      <td>October 16 2018</td>\n",
       "      <td>8:00 PM</td>\n",
       "      <td>BOS</td>\n",
       "      <td>1</td>\n",
       "      <td>655</td>\n",
       "      <td>PHI</td>\n",
       "      <td>J. Embiid makes 2-pt layup from 1 ft (assist b...</td>\n",
       "      <td>...</td>\n",
       "      <td>NaN</td>\n",
       "      <td>NaN</td>\n",
       "      <td>NaN</td>\n",
       "      <td>NaN</td>\n",
       "      <td>NaN</td>\n",
       "      <td>NaN</td>\n",
       "      <td>NaN</td>\n",
       "      <td>NaN</td>\n",
       "      <td>NaN</td>\n",
       "      <td>NaN</td>\n",
       "    </tr>\n",
       "    <tr>\n",
       "      <th>26</th>\n",
       "      <td>/boxscores/201810160BOS.html</td>\n",
       "      <td>regular</td>\n",
       "      <td>TD Garden Boston Massachusetts</td>\n",
       "      <td>October 16 2018</td>\n",
       "      <td>8:00 PM</td>\n",
       "      <td>BOS</td>\n",
       "      <td>1</td>\n",
       "      <td>559</td>\n",
       "      <td>PHI</td>\n",
       "      <td>NaN</td>\n",
       "      <td>...</td>\n",
       "      <td>NaN</td>\n",
       "      <td>NaN</td>\n",
       "      <td>NaN</td>\n",
       "      <td>NaN</td>\n",
       "      <td>NaN</td>\n",
       "      <td>NaN</td>\n",
       "      <td>NaN</td>\n",
       "      <td>NaN</td>\n",
       "      <td>NaN</td>\n",
       "      <td>NaN</td>\n",
       "    </tr>\n",
       "    <tr>\n",
       "      <th>30</th>\n",
       "      <td>/boxscores/201810160BOS.html</td>\n",
       "      <td>regular</td>\n",
       "      <td>TD Garden Boston Massachusetts</td>\n",
       "      <td>October 16 2018</td>\n",
       "      <td>8:00 PM</td>\n",
       "      <td>BOS</td>\n",
       "      <td>1</td>\n",
       "      <td>533</td>\n",
       "      <td>PHI</td>\n",
       "      <td>D. Saric makes 2-pt layup from 2 ft (assist by...</td>\n",
       "      <td>...</td>\n",
       "      <td>NaN</td>\n",
       "      <td>NaN</td>\n",
       "      <td>NaN</td>\n",
       "      <td>NaN</td>\n",
       "      <td>NaN</td>\n",
       "      <td>NaN</td>\n",
       "      <td>NaN</td>\n",
       "      <td>NaN</td>\n",
       "      <td>NaN</td>\n",
       "      <td>NaN</td>\n",
       "    </tr>\n",
       "    <tr>\n",
       "      <th>33</th>\n",
       "      <td>/boxscores/201810160BOS.html</td>\n",
       "      <td>regular</td>\n",
       "      <td>TD Garden Boston Massachusetts</td>\n",
       "      <td>October 16 2018</td>\n",
       "      <td>8:00 PM</td>\n",
       "      <td>BOS</td>\n",
       "      <td>1</td>\n",
       "      <td>508</td>\n",
       "      <td>PHI</td>\n",
       "      <td>NaN</td>\n",
       "      <td>...</td>\n",
       "      <td>NaN</td>\n",
       "      <td>NaN</td>\n",
       "      <td>NaN</td>\n",
       "      <td>NaN</td>\n",
       "      <td>NaN</td>\n",
       "      <td>NaN</td>\n",
       "      <td>NaN</td>\n",
       "      <td>NaN</td>\n",
       "      <td>NaN</td>\n",
       "      <td>NaN</td>\n",
       "    </tr>\n",
       "    <tr>\n",
       "      <th>34</th>\n",
       "      <td>/boxscores/201810160BOS.html</td>\n",
       "      <td>regular</td>\n",
       "      <td>TD Garden Boston Massachusetts</td>\n",
       "      <td>October 16 2018</td>\n",
       "      <td>8:00 PM</td>\n",
       "      <td>BOS</td>\n",
       "      <td>1</td>\n",
       "      <td>495</td>\n",
       "      <td>PHI</td>\n",
       "      <td>D. Saric makes 2-pt layup from 4 ft</td>\n",
       "      <td>...</td>\n",
       "      <td>NaN</td>\n",
       "      <td>NaN</td>\n",
       "      <td>NaN</td>\n",
       "      <td>NaN</td>\n",
       "      <td>NaN</td>\n",
       "      <td>NaN</td>\n",
       "      <td>NaN</td>\n",
       "      <td>NaN</td>\n",
       "      <td>NaN</td>\n",
       "      <td>NaN</td>\n",
       "    </tr>\n",
       "    <tr>\n",
       "      <th>38</th>\n",
       "      <td>/boxscores/201810160BOS.html</td>\n",
       "      <td>regular</td>\n",
       "      <td>TD Garden Boston Massachusetts</td>\n",
       "      <td>October 16 2018</td>\n",
       "      <td>8:00 PM</td>\n",
       "      <td>BOS</td>\n",
       "      <td>1</td>\n",
       "      <td>461</td>\n",
       "      <td>PHI</td>\n",
       "      <td>J. Embiid makes 2-pt jump shot from 14 ft</td>\n",
       "      <td>...</td>\n",
       "      <td>NaN</td>\n",
       "      <td>NaN</td>\n",
       "      <td>NaN</td>\n",
       "      <td>NaN</td>\n",
       "      <td>NaN</td>\n",
       "      <td>NaN</td>\n",
       "      <td>NaN</td>\n",
       "      <td>NaN</td>\n",
       "      <td>NaN</td>\n",
       "      <td>NaN</td>\n",
       "    </tr>\n",
       "    <tr>\n",
       "      <th>39</th>\n",
       "      <td>/boxscores/201810160BOS.html</td>\n",
       "      <td>regular</td>\n",
       "      <td>TD Garden Boston Massachusetts</td>\n",
       "      <td>October 16 2018</td>\n",
       "      <td>8:00 PM</td>\n",
       "      <td>BOS</td>\n",
       "      <td>1</td>\n",
       "      <td>446</td>\n",
       "      <td>PHI</td>\n",
       "      <td>NaN</td>\n",
       "      <td>...</td>\n",
       "      <td>NaN</td>\n",
       "      <td>NaN</td>\n",
       "      <td>NaN</td>\n",
       "      <td>NaN</td>\n",
       "      <td>NaN</td>\n",
       "      <td>NaN</td>\n",
       "      <td>NaN</td>\n",
       "      <td>NaN</td>\n",
       "      <td>NaN</td>\n",
       "      <td>NaN</td>\n",
       "    </tr>\n",
       "    <tr>\n",
       "      <th>56</th>\n",
       "      <td>/boxscores/201810160BOS.html</td>\n",
       "      <td>regular</td>\n",
       "      <td>TD Garden Boston Massachusetts</td>\n",
       "      <td>October 16 2018</td>\n",
       "      <td>8:00 PM</td>\n",
       "      <td>BOS</td>\n",
       "      <td>1</td>\n",
       "      <td>370</td>\n",
       "      <td>PHI</td>\n",
       "      <td>NaN</td>\n",
       "      <td>...</td>\n",
       "      <td>NaN</td>\n",
       "      <td>NaN</td>\n",
       "      <td>NaN</td>\n",
       "      <td>NaN</td>\n",
       "      <td>NaN</td>\n",
       "      <td>NaN</td>\n",
       "      <td>NaN</td>\n",
       "      <td>NaN</td>\n",
       "      <td>NaN</td>\n",
       "      <td>NaN</td>\n",
       "    </tr>\n",
       "    <tr>\n",
       "      <th>61</th>\n",
       "      <td>/boxscores/201810160BOS.html</td>\n",
       "      <td>regular</td>\n",
       "      <td>TD Garden Boston Massachusetts</td>\n",
       "      <td>October 16 2018</td>\n",
       "      <td>8:00 PM</td>\n",
       "      <td>BOS</td>\n",
       "      <td>1</td>\n",
       "      <td>341</td>\n",
       "      <td>PHI</td>\n",
       "      <td>NaN</td>\n",
       "      <td>...</td>\n",
       "      <td>NaN</td>\n",
       "      <td>NaN</td>\n",
       "      <td>NaN</td>\n",
       "      <td>NaN</td>\n",
       "      <td>NaN</td>\n",
       "      <td>NaN</td>\n",
       "      <td>NaN</td>\n",
       "      <td>NaN</td>\n",
       "      <td>NaN</td>\n",
       "      <td>NaN</td>\n",
       "    </tr>\n",
       "    <tr>\n",
       "      <th>72</th>\n",
       "      <td>/boxscores/201810160BOS.html</td>\n",
       "      <td>regular</td>\n",
       "      <td>TD Garden Boston Massachusetts</td>\n",
       "      <td>October 16 2018</td>\n",
       "      <td>8:00 PM</td>\n",
       "      <td>BOS</td>\n",
       "      <td>1</td>\n",
       "      <td>290</td>\n",
       "      <td>PHI</td>\n",
       "      <td>B. Simmons makes 2-pt layup from 1 ft</td>\n",
       "      <td>...</td>\n",
       "      <td>NaN</td>\n",
       "      <td>NaN</td>\n",
       "      <td>NaN</td>\n",
       "      <td>NaN</td>\n",
       "      <td>NaN</td>\n",
       "      <td>NaN</td>\n",
       "      <td>NaN</td>\n",
       "      <td>NaN</td>\n",
       "      <td>NaN</td>\n",
       "      <td>NaN</td>\n",
       "    </tr>\n",
       "  </tbody>\n",
       "</table>\n",
       "<p>10 rows × 40 columns</p>\n",
       "</div>"
      ],
      "text/plain": [
       "                             URL GameType                        Location  \\\n",
       "8   /boxscores/201810160BOS.html  regular  TD Garden Boston Massachusetts   \n",
       "26  /boxscores/201810160BOS.html  regular  TD Garden Boston Massachusetts   \n",
       "30  /boxscores/201810160BOS.html  regular  TD Garden Boston Massachusetts   \n",
       "33  /boxscores/201810160BOS.html  regular  TD Garden Boston Massachusetts   \n",
       "34  /boxscores/201810160BOS.html  regular  TD Garden Boston Massachusetts   \n",
       "38  /boxscores/201810160BOS.html  regular  TD Garden Boston Massachusetts   \n",
       "39  /boxscores/201810160BOS.html  regular  TD Garden Boston Massachusetts   \n",
       "56  /boxscores/201810160BOS.html  regular  TD Garden Boston Massachusetts   \n",
       "61  /boxscores/201810160BOS.html  regular  TD Garden Boston Massachusetts   \n",
       "72  /boxscores/201810160BOS.html  regular  TD Garden Boston Massachusetts   \n",
       "\n",
       "               Date     Time WinningTeam  Quarter  SecLeft AwayTeam  \\\n",
       "8   October 16 2018  8:00 PM         BOS        1      655      PHI   \n",
       "26  October 16 2018  8:00 PM         BOS        1      559      PHI   \n",
       "30  October 16 2018  8:00 PM         BOS        1      533      PHI   \n",
       "33  October 16 2018  8:00 PM         BOS        1      508      PHI   \n",
       "34  October 16 2018  8:00 PM         BOS        1      495      PHI   \n",
       "38  October 16 2018  8:00 PM         BOS        1      461      PHI   \n",
       "39  October 16 2018  8:00 PM         BOS        1      446      PHI   \n",
       "56  October 16 2018  8:00 PM         BOS        1      370      PHI   \n",
       "61  October 16 2018  8:00 PM         BOS        1      341      PHI   \n",
       "72  October 16 2018  8:00 PM         BOS        1      290      PHI   \n",
       "\n",
       "                                             AwayPlay  ...  FreeThrowNum  \\\n",
       "8   J. Embiid makes 2-pt layup from 1 ft (assist b...  ...           NaN   \n",
       "26                                                NaN  ...           NaN   \n",
       "30  D. Saric makes 2-pt layup from 2 ft (assist by...  ...           NaN   \n",
       "33                                                NaN  ...           NaN   \n",
       "34                D. Saric makes 2-pt layup from 4 ft  ...           NaN   \n",
       "38          J. Embiid makes 2-pt jump shot from 14 ft  ...           NaN   \n",
       "39                                                NaN  ...           NaN   \n",
       "56                                                NaN  ...           NaN   \n",
       "61                                                NaN  ...           NaN   \n",
       "72              B. Simmons makes 2-pt layup from 1 ft  ...           NaN   \n",
       "\n",
       "   EnterGame LeaveGame  TurnoverPlayer TurnoverType TurnoverCause  \\\n",
       "8        NaN       NaN             NaN          NaN           NaN   \n",
       "26       NaN       NaN             NaN          NaN           NaN   \n",
       "30       NaN       NaN             NaN          NaN           NaN   \n",
       "33       NaN       NaN             NaN          NaN           NaN   \n",
       "34       NaN       NaN             NaN          NaN           NaN   \n",
       "38       NaN       NaN             NaN          NaN           NaN   \n",
       "39       NaN       NaN             NaN          NaN           NaN   \n",
       "56       NaN       NaN             NaN          NaN           NaN   \n",
       "61       NaN       NaN             NaN          NaN           NaN   \n",
       "72       NaN       NaN             NaN          NaN           NaN   \n",
       "\n",
       "   TurnoverCauser  JumpballAwayPlayer JumpballHomePlayer JumpballPoss  \n",
       "8             NaN                 NaN                NaN          NaN  \n",
       "26            NaN                 NaN                NaN          NaN  \n",
       "30            NaN                 NaN                NaN          NaN  \n",
       "33            NaN                 NaN                NaN          NaN  \n",
       "34            NaN                 NaN                NaN          NaN  \n",
       "38            NaN                 NaN                NaN          NaN  \n",
       "39            NaN                 NaN                NaN          NaN  \n",
       "56            NaN                 NaN                NaN          NaN  \n",
       "61            NaN                 NaN                NaN          NaN  \n",
       "72            NaN                 NaN                NaN          NaN  \n",
       "\n",
       "[10 rows x 40 columns]"
      ]
     },
     "execution_count": 44,
     "metadata": {},
     "output_type": "execute_result"
    }
   ],
   "source": [
    "playbyplayData.head(10)"
   ]
  },
  {
   "cell_type": "code",
   "execution_count": 45,
   "metadata": {},
   "outputs": [],
   "source": [
    "playbyplayData = playbyplayData.dropna(subset = [\"ShotDist\"])"
   ]
  },
  {
   "cell_type": "code",
   "execution_count": 46,
   "metadata": {},
   "outputs": [
    {
     "data": {
      "text/plain": [
       "(107373, 40)"
      ]
     },
     "execution_count": 46,
     "metadata": {},
     "output_type": "execute_result"
    }
   ],
   "source": [
    "playbyplayData.shape"
   ]
  },
  {
   "cell_type": "markdown",
   "metadata": {},
   "source": [
    "Play by Play data is now cleaned to remove any missed shots and missing values. Let's parse the distances."
   ]
  },
  {
   "cell_type": "code",
   "execution_count": 47,
   "metadata": {},
   "outputs": [
    {
     "data": {
      "text/plain": [
       "Index(['URL', 'GameType', 'Location', 'Date', 'Time', 'WinningTeam', 'Quarter',\n",
       "       'SecLeft', 'AwayTeam', 'AwayPlay', 'AwayScore', 'HomeTeam', 'HomePlay',\n",
       "       'HomeScore', 'Shooter', 'ShotType', 'ShotOutcome', 'ShotDist',\n",
       "       'Assister', 'Blocker', 'FoulType', 'Fouler', 'Fouled', 'Rebounder',\n",
       "       'ReboundType', 'ViolationPlayer', 'ViolationType', 'TimeoutTeam',\n",
       "       'FreeThrowShooter', 'FreeThrowOutcome', 'FreeThrowNum', 'EnterGame',\n",
       "       'LeaveGame', 'TurnoverPlayer', 'TurnoverType', 'TurnoverCause',\n",
       "       'TurnoverCauser', 'JumpballAwayPlayer', 'JumpballHomePlayer',\n",
       "       'JumpballPoss'],\n",
       "      dtype='object')"
      ]
     },
     "execution_count": 47,
     "metadata": {},
     "output_type": "execute_result"
    }
   ],
   "source": [
    "playbyplayData.columns"
   ]
  },
  {
   "cell_type": "code",
   "execution_count": 10,
   "metadata": {},
   "outputs": [
    {
     "data": {
      "text/plain": [
       "8          1.0\n",
       "26        15.0\n",
       "30         2.0\n",
       "33        13.0\n",
       "34         4.0\n",
       "          ... \n",
       "613623     9.0\n",
       "613633    13.0\n",
       "613634    25.0\n",
       "613645     1.0\n",
       "613648    13.0\n",
       "Name: ShotDist, Length: 107373, dtype: float64"
      ]
     },
     "execution_count": 10,
     "metadata": {},
     "output_type": "execute_result"
    }
   ],
   "source": [
    "shotDistances = playbyplayData['ShotDist']\n",
    "shotDistances"
   ]
  },
  {
   "cell_type": "code",
   "execution_count": 11,
   "metadata": {},
   "outputs": [
    {
     "data": {
      "text/plain": [
       "60.0"
      ]
     },
     "execution_count": 11,
     "metadata": {},
     "output_type": "execute_result"
    }
   ],
   "source": [
    "shotDistances.max() # LOL Steph Curry"
   ]
  },
  {
   "cell_type": "code",
   "execution_count": 25,
   "metadata": {},
   "outputs": [
    {
     "data": {
      "text/plain": [
       "0.0"
      ]
     },
     "execution_count": 25,
     "metadata": {},
     "output_type": "execute_result"
    }
   ],
   "source": [
    "shotDistances.min()"
   ]
  },
  {
   "cell_type": "code",
   "execution_count": 12,
   "metadata": {},
   "outputs": [],
   "source": [
    "cleanDist = shotDistances.to_numpy().reshape(-1, 1)"
   ]
  },
  {
   "cell_type": "code",
   "execution_count": 1,
   "metadata": {},
   "outputs": [],
   "source": [
    "## Seeing if the > 30 ft makes sense\n",
    "\n",
    "# pd.set_option('display.max_columns', None)\n",
    "# pd.set_option('display.max_rows', None)\n",
    "# playbyplayData[playbyplayData['ShotDist'] >= 30]"
   ]
  },
  {
   "cell_type": "markdown",
   "metadata": {},
   "source": [
    "### Bins using Freedman-Diaconis Rule"
   ]
  },
  {
   "cell_type": "code",
   "execution_count": 22,
   "metadata": {},
   "outputs": [],
   "source": [
    "def freedman_diaconis(data, returnas = \"width\"):\n",
    "    \"\"\"\n",
    "    Use Freedman Diaconis rule to compute optimal histogram bin width. \n",
    "    ``returnas`` can be one of \"width\" or \"bins\", indicating whether\n",
    "    the bin width or number of bins should be returned respectively. \n",
    "\n",
    "\n",
    "    Parameters\n",
    "    ----------\n",
    "    data: np.ndarray\n",
    "        One-dimensional array.\n",
    "\n",
    "    returnas: {\"width\", \"bins\"}\n",
    "        If \"width\", return the estimated width for each histogram bin. \n",
    "        If \"bins\", return the number of bins suggested by rule.\n",
    "    \"\"\"\n",
    "    data = np.asarray(data, dtype = np.float_)\n",
    "    IQR = stats.iqr(data, rng = (25,75), scale = \"raw\", nan_policy = \"omit\")\n",
    "    N = data.size\n",
    "    bw = (2*IQR)/ np.power(N,1/3)\n",
    "\n",
    "    if returnas == \"width\":\n",
    "        result = bw\n",
    "    else:\n",
    "        datmin,datmax = data.min(), data.max()\n",
    "        datrng = datmax - datmin\n",
    "        result = int((datrng/bw) + 1)\n",
    "\n",
    "    return(result)"
   ]
  },
  {
   "cell_type": "code",
   "execution_count": 24,
   "metadata": {},
   "outputs": [
    {
     "data": {
      "text/plain": [
       "68"
      ]
     },
     "execution_count": 24,
     "metadata": {},
     "output_type": "execute_result"
    }
   ],
   "source": [
    "freedman_diaconis(data = cleanDist, returnas = \"bins\")"
   ]
  },
  {
   "cell_type": "markdown",
   "metadata": {},
   "source": [
    "### Histogram with 68 bins\n",
    "With 68 bins, you'll notice the data nicely gets grouped into 5 larger overall groups. I'd like to think that you could use this as a fair breakdown of the shot distance groups. With that being said, you'll notice the shot distances can be grouped as: **0-7ft**, **8-14ft**, **15-22ft**, **23-29ft**, and **30+ft**"
   ]
  },
  {
   "cell_type": "code",
   "execution_count": 65,
   "metadata": {},
   "outputs": [
    {
     "data": {
      "image/png": "[encoded data removed]",
      "text/plain": [
       "<Figure size 1200x480 with 1 Axes>"
      ]
     },
     "metadata": {},
     "output_type": "display_data"
    }
   ],
   "source": [
    "from matplotlib.pyplot import figure\n",
    "figure(num=None, figsize=(15, 6), dpi=80, facecolor='w', edgecolor='k')\n",
    "plt.title('2018-19 NBA Made Shot Distances')\n",
    "plt.xlabel('Shot Distance (ft)')\n",
    "plt.ylabel('Number of made shots')\n",
    "plt.hist(cleanDist, bins = 68)\n",
    "plt.xticks(np.arange(0, 40, step=1))\n",
    "plt.show()\n"
   ]
  },
  {
   "cell_type": "markdown",
   "metadata": {},
   "source": [
    "### With our new groupings of shot distances, what's the next step?\n",
    "We can take a number of approaches here.  \n",
    "1) Look at NBA players and identify which bucket of distances they are most successfull at shooting in. This could mean the % of makes at each distance bucket too.  \n",
    "2) Look at NBA offenses and identify where most of their makes are falling in perhaps using the above histogram on a team by team basis. This season data shows us that basically there's an over-reliance of shots in the paint and 3 point shots in the NBA. Let's use the histogram to figure out where each team likes to shoot (shot selection).\n",
    "\n",
    "I think perhaps the way to go is option 2 and then find players that fit that profile (option 1). So both!"
   ]
  },
  {
   "cell_type": "code",
   "execution_count": 124,
   "metadata": {},
   "outputs": [],
   "source": [
    "X = shotDistances.to_numpy()\n",
    "X = X.reshape(-1, 1)"
   ]
  },
  {
   "cell_type": "code",
   "execution_count": 145,
   "metadata": {},
   "outputs": [],
   "source": [
    "def dbscan(X, eps, min_samples):\n",
    "    ss = StandardScaler()\n",
    "    X = ss.fit_transform(X)\n",
    "    db = DBSCAN(eps=eps, min_samples=min_samples)\n",
    "    db.fit(X)\n",
    "    y_pred = db.fit_predict(X)\n",
    "    plt.scatter(X[:,0], X[:,1],c=y_pred, cmap='plasma')\n",
    "    plt.title(\"DBSCAN\")"
   ]
  },
  {
   "cell_type": "code",
   "execution_count": 147,
   "metadata": {},
   "outputs": [
    {
     "ename": "IndexError",
     "evalue": "index 1 is out of bounds for axis 1 with size 1",
     "output_type": "error",
     "traceback": [
      "\u001b[0;31m---------------------------------------------------------------------------\u001b[0m",
      "\u001b[0;31mIndexError\u001b[0m                                Traceback (most recent call last)",
      "\u001b[0;32m<ipython-input-147-03395cc05bf5>\u001b[0m in \u001b[0;36m<module>\u001b[0;34m\u001b[0m\n\u001b[0;32m----> 1\u001b[0;31m \u001b[0mdbscan\u001b[0m\u001b[0;34m(\u001b[0m\u001b[0mX\u001b[0m\u001b[0;34m,\u001b[0m \u001b[0meps\u001b[0m \u001b[0;34m=\u001b[0m \u001b[0;36m0.5\u001b[0m\u001b[0;34m,\u001b[0m \u001b[0mmin_samples\u001b[0m \u001b[0;34m=\u001b[0m \u001b[0;36m2\u001b[0m\u001b[0;34m)\u001b[0m\u001b[0;34m\u001b[0m\u001b[0;34m\u001b[0m\u001b[0m\n\u001b[0m",
      "\u001b[0;32m<ipython-input-145-6398bed3a0ff>\u001b[0m in \u001b[0;36mdbscan\u001b[0;34m(X, eps, min_samples)\u001b[0m\n\u001b[1;32m      5\u001b[0m     \u001b[0mdb\u001b[0m\u001b[0;34m.\u001b[0m\u001b[0mfit\u001b[0m\u001b[0;34m(\u001b[0m\u001b[0mX\u001b[0m\u001b[0;34m)\u001b[0m\u001b[0;34m\u001b[0m\u001b[0;34m\u001b[0m\u001b[0m\n\u001b[1;32m      6\u001b[0m     \u001b[0my_pred\u001b[0m \u001b[0;34m=\u001b[0m \u001b[0mdb\u001b[0m\u001b[0;34m.\u001b[0m\u001b[0mfit_predict\u001b[0m\u001b[0;34m(\u001b[0m\u001b[0mX\u001b[0m\u001b[0;34m)\u001b[0m\u001b[0;34m\u001b[0m\u001b[0;34m\u001b[0m\u001b[0m\n\u001b[0;32m----> 7\u001b[0;31m     \u001b[0mplt\u001b[0m\u001b[0;34m.\u001b[0m\u001b[0mscatter\u001b[0m\u001b[0;34m(\u001b[0m\u001b[0mX\u001b[0m\u001b[0;34m[\u001b[0m\u001b[0;34m:\u001b[0m\u001b[0;34m,\u001b[0m\u001b[0;36m0\u001b[0m\u001b[0;34m]\u001b[0m\u001b[0;34m,\u001b[0m \u001b[0mX\u001b[0m\u001b[0;34m[\u001b[0m\u001b[0;34m:\u001b[0m\u001b[0;34m,\u001b[0m\u001b[0;36m1\u001b[0m\u001b[0;34m]\u001b[0m\u001b[0;34m,\u001b[0m\u001b[0mc\u001b[0m\u001b[0;34m=\u001b[0m\u001b[0my_pred\u001b[0m\u001b[0;34m,\u001b[0m \u001b[0mcmap\u001b[0m\u001b[0;34m=\u001b[0m\u001b[0;34m'Paired'\u001b[0m\u001b[0;34m)\u001b[0m\u001b[0;34m\u001b[0m\u001b[0;34m\u001b[0m\u001b[0m\n\u001b[0m\u001b[1;32m      8\u001b[0m     \u001b[0mplt\u001b[0m\u001b[0;34m.\u001b[0m\u001b[0mtitle\u001b[0m\u001b[0;34m(\u001b[0m\u001b[0;34m\"DBSCAN\"\u001b[0m\u001b[0;34m)\u001b[0m\u001b[0;34m\u001b[0m\u001b[0;34m\u001b[0m\u001b[0m\n",
      "\u001b[0;31mIndexError\u001b[0m: index 1 is out of bounds for axis 1 with size 1"
     ]
    }
   ],
   "source": [
    "# dbscan(X, eps = 0.5, min_samples = 2)"
   ]
  },
  {
   "cell_type": "code",
   "execution_count": null,
   "metadata": {},
   "outputs": [],
   "source": []
  }
 ],
 "metadata": {
  "kernelspec": {
   "display_name": "Python 3",
   "language": "python",
   "name": "python3"
  },
  "language_info": {
   "codemirror_mode": {
    "name": "ipython",
    "version": 3
   },
   "file_extension": ".py",
   "mimetype": "text/x-python",
   "name": "python",
   "nbconvert_exporter": "python",
   "pygments_lexer": "ipython3",
   "version": "3.6.8"
  }
 },
 "nbformat": 4,
 "nbformat_minor": 2
}
