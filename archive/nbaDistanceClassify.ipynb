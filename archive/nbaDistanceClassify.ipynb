{
 "cells": [
  {
   "cell_type": "markdown",
   "metadata": {},
   "source": [
    "## NBA Statistics Friday Project: Classification of Shot Distances\n",
    "\n",
    "##### This is a project to assess if the NBA's classification of shot distances is good. Currently the categories are: <5 ft, 5-9 ft, 10-14 ft, 15-19 ft, 20-24 ft, and 25-29 ft. These classifications could help us better understand the categories of the types of shots taken by distance. We're going to use only shots that were made so we classify shot distances of shots that were completed at a statistically high rate in the NBA."
   ]
  },
  {
   "cell_type": "code",
   "execution_count": 2,
   "metadata": {},
   "outputs": [],
   "source": [
    "# from mpl_toolkits.mplot3d import Axes3D\n",
    "from sklearn.preprocessing import StandardScaler\n",
    "from matplotlib import pyplot as plt # plotting\n",
    "import numpy as np # linear algebra\n",
    "import os # accessing directory structure\n",
    "import pandas as pd\n",
    "from scipy import stats\n",
    "# from sklearn.cluster import DBSCAN"
   ]
  },
  {
   "cell_type": "code",
   "execution_count": 3,
   "metadata": {},
   "outputs": [
    {
     "data": {
      "text/html": [
       "<div>\n",
       "<style scoped>\n",
       "    .dataframe tbody tr th:only-of-type {\n",
       "        vertical-align: middle;\n",
       "    }\n",
       "\n",
       "    .dataframe tbody tr th {\n",
       "        vertical-align: top;\n",
       "    }\n",
       "\n",
       "    .dataframe thead th {\n",
       "        text-align: right;\n",
       "    }\n",
       "</style>\n",
       "<table border=\"1\" class=\"dataframe\">\n",
       "  <thead>\n",
       "    <tr style=\"text-align: right;\">\n",
       "      <th></th>\n",
       "      <th>URL</th>\n",
       "      <th>GameType</th>\n",
       "      <th>Location</th>\n",
       "      <th>Date</th>\n",
       "      <th>Time</th>\n",
       "      <th>WinningTeam</th>\n",
       "      <th>Quarter</th>\n",
       "      <th>SecLeft</th>\n",
       "      <th>AwayTeam</th>\n",
       "      <th>AwayPlay</th>\n",
       "      <th>...</th>\n",
       "      <th>FreeThrowNum</th>\n",
       "      <th>EnterGame</th>\n",
       "      <th>LeaveGame</th>\n",
       "      <th>TurnoverPlayer</th>\n",
       "      <th>TurnoverType</th>\n",
       "      <th>TurnoverCause</th>\n",
       "      <th>TurnoverCauser</th>\n",
       "      <th>JumpballAwayPlayer</th>\n",
       "      <th>JumpballHomePlayer</th>\n",
       "      <th>JumpballPoss</th>\n",
       "    </tr>\n",
       "  </thead>\n",
       "  <tbody>\n",
       "    <tr>\n",
       "      <th>0</th>\n",
       "      <td>/boxscores/201810160BOS.html</td>\n",
       "      <td>regular</td>\n",
       "      <td>TD Garden Boston Massachusetts</td>\n",
       "      <td>October 16 2018</td>\n",
       "      <td>8:00 PM</td>\n",
       "      <td>BOS</td>\n",
       "      <td>1</td>\n",
       "      <td>720</td>\n",
       "      <td>PHI</td>\n",
       "      <td>Jump ball: J. Embiid vs. A. Horford (B. Simmon...</td>\n",
       "      <td>...</td>\n",
       "      <td>NaN</td>\n",
       "      <td>NaN</td>\n",
       "      <td>NaN</td>\n",
       "      <td>NaN</td>\n",
       "      <td>NaN</td>\n",
       "      <td>NaN</td>\n",
       "      <td>NaN</td>\n",
       "      <td>J. Embiid - PHI</td>\n",
       "      <td>A. Horford - BOS</td>\n",
       "      <td>B. Simmons</td>\n",
       "    </tr>\n",
       "    <tr>\n",
       "      <th>1</th>\n",
       "      <td>/boxscores/201810160BOS.html</td>\n",
       "      <td>regular</td>\n",
       "      <td>TD Garden Boston Massachusetts</td>\n",
       "      <td>October 16 2018</td>\n",
       "      <td>8:00 PM</td>\n",
       "      <td>BOS</td>\n",
       "      <td>1</td>\n",
       "      <td>700</td>\n",
       "      <td>PHI</td>\n",
       "      <td>R. Covington misses 3-pt jump shot from 27 ft</td>\n",
       "      <td>...</td>\n",
       "      <td>NaN</td>\n",
       "      <td>NaN</td>\n",
       "      <td>NaN</td>\n",
       "      <td>NaN</td>\n",
       "      <td>NaN</td>\n",
       "      <td>NaN</td>\n",
       "      <td>NaN</td>\n",
       "      <td>NaN</td>\n",
       "      <td>NaN</td>\n",
       "      <td>NaN</td>\n",
       "    </tr>\n",
       "    <tr>\n",
       "      <th>2</th>\n",
       "      <td>/boxscores/201810160BOS.html</td>\n",
       "      <td>regular</td>\n",
       "      <td>TD Garden Boston Massachusetts</td>\n",
       "      <td>October 16 2018</td>\n",
       "      <td>8:00 PM</td>\n",
       "      <td>BOS</td>\n",
       "      <td>1</td>\n",
       "      <td>700</td>\n",
       "      <td>PHI</td>\n",
       "      <td>NaN</td>\n",
       "      <td>...</td>\n",
       "      <td>NaN</td>\n",
       "      <td>NaN</td>\n",
       "      <td>NaN</td>\n",
       "      <td>NaN</td>\n",
       "      <td>NaN</td>\n",
       "      <td>NaN</td>\n",
       "      <td>NaN</td>\n",
       "      <td>NaN</td>\n",
       "      <td>NaN</td>\n",
       "      <td>NaN</td>\n",
       "    </tr>\n",
       "    <tr>\n",
       "      <th>3</th>\n",
       "      <td>/boxscores/201810160BOS.html</td>\n",
       "      <td>regular</td>\n",
       "      <td>TD Garden Boston Massachusetts</td>\n",
       "      <td>October 16 2018</td>\n",
       "      <td>8:00 PM</td>\n",
       "      <td>BOS</td>\n",
       "      <td>1</td>\n",
       "      <td>675</td>\n",
       "      <td>PHI</td>\n",
       "      <td>NaN</td>\n",
       "      <td>...</td>\n",
       "      <td>NaN</td>\n",
       "      <td>NaN</td>\n",
       "      <td>NaN</td>\n",
       "      <td>NaN</td>\n",
       "      <td>NaN</td>\n",
       "      <td>NaN</td>\n",
       "      <td>NaN</td>\n",
       "      <td>NaN</td>\n",
       "      <td>NaN</td>\n",
       "      <td>NaN</td>\n",
       "    </tr>\n",
       "    <tr>\n",
       "      <th>4</th>\n",
       "      <td>/boxscores/201810160BOS.html</td>\n",
       "      <td>regular</td>\n",
       "      <td>TD Garden Boston Massachusetts</td>\n",
       "      <td>October 16 2018</td>\n",
       "      <td>8:00 PM</td>\n",
       "      <td>BOS</td>\n",
       "      <td>1</td>\n",
       "      <td>673</td>\n",
       "      <td>PHI</td>\n",
       "      <td>Defensive rebound by D. Saric</td>\n",
       "      <td>...</td>\n",
       "      <td>NaN</td>\n",
       "      <td>NaN</td>\n",
       "      <td>NaN</td>\n",
       "      <td>NaN</td>\n",
       "      <td>NaN</td>\n",
       "      <td>NaN</td>\n",
       "      <td>NaN</td>\n",
       "      <td>NaN</td>\n",
       "      <td>NaN</td>\n",
       "      <td>NaN</td>\n",
       "    </tr>\n",
       "  </tbody>\n",
       "</table>\n",
       "<p>5 rows × 40 columns</p>\n",
       "</div>"
      ],
      "text/plain": [
       "                            URL GameType                        Location  \\\n",
       "0  /boxscores/201810160BOS.html  regular  TD Garden Boston Massachusetts   \n",
       "1  /boxscores/201810160BOS.html  regular  TD Garden Boston Massachusetts   \n",
       "2  /boxscores/201810160BOS.html  regular  TD Garden Boston Massachusetts   \n",
       "3  /boxscores/201810160BOS.html  regular  TD Garden Boston Massachusetts   \n",
       "4  /boxscores/201810160BOS.html  regular  TD Garden Boston Massachusetts   \n",
       "\n",
       "              Date     Time WinningTeam  Quarter  SecLeft AwayTeam  \\\n",
       "0  October 16 2018  8:00 PM         BOS        1      720      PHI   \n",
       "1  October 16 2018  8:00 PM         BOS        1      700      PHI   \n",
       "2  October 16 2018  8:00 PM         BOS        1      700      PHI   \n",
       "3  October 16 2018  8:00 PM         BOS        1      675      PHI   \n",
       "4  October 16 2018  8:00 PM         BOS        1      673      PHI   \n",
       "\n",
       "                                            AwayPlay  ...  FreeThrowNum  \\\n",
       "0  Jump ball: J. Embiid vs. A. Horford (B. Simmon...  ...           NaN   \n",
       "1      R. Covington misses 3-pt jump shot from 27 ft  ...           NaN   \n",
       "2                                                NaN  ...           NaN   \n",
       "3                                                NaN  ...           NaN   \n",
       "4                      Defensive rebound by D. Saric  ...           NaN   \n",
       "\n",
       "  EnterGame LeaveGame  TurnoverPlayer TurnoverType TurnoverCause  \\\n",
       "0       NaN       NaN             NaN          NaN           NaN   \n",
       "1       NaN       NaN             NaN          NaN           NaN   \n",
       "2       NaN       NaN             NaN          NaN           NaN   \n",
       "3       NaN       NaN             NaN          NaN           NaN   \n",
       "4       NaN       NaN             NaN          NaN           NaN   \n",
       "\n",
       "  TurnoverCauser  JumpballAwayPlayer JumpballHomePlayer JumpballPoss  \n",
       "0            NaN     J. Embiid - PHI   A. Horford - BOS   B. Simmons  \n",
       "1            NaN                 NaN                NaN          NaN  \n",
       "2            NaN                 NaN                NaN          NaN  \n",
       "3            NaN                 NaN                NaN          NaN  \n",
       "4            NaN                 NaN                NaN          NaN  \n",
       "\n",
       "[5 rows x 40 columns]"
      ]
     },
     "execution_count": 3,
     "metadata": {},
     "output_type": "execute_result"
    }
   ],
   "source": [
    "# https://www.kaggle.com/schmadam97/nba-playbyplay-data-20182019\n",
    "\n",
    "playbyplayData = pd.read_csv(\"/Users/dereklee/ml-projects/NBA-PBP-2018-2019.csv\")\n",
    "playbyplayData.head(5)"
   ]
  },
  {
   "cell_type": "code",
   "execution_count": 41,
   "metadata": {},
   "outputs": [],
   "source": [
    "playbyplayData = playbyplayData[playbyplayData.ShotOutcome != \"miss\"]\n",
    "playbyplayData = playbyplayData.dropna(subset = [\"ShotOutcome\"])"
   ]
  },
  {
   "cell_type": "code",
   "execution_count": 42,
   "metadata": {},
   "outputs": [
    {
     "data": {
      "text/plain": [
       "(487325, 40)"
      ]
     },
     "execution_count": 42,
     "metadata": {},
     "output_type": "execute_result"
    }
   ],
   "source": [
    "playbyplayData.shape"
   ]
  },
  {
   "cell_type": "code",
   "execution_count": 44,
   "metadata": {},
   "outputs": [
    {
     "data": {
      "text/html": [
       "<div>\n",
       "<style scoped>\n",
       "    .dataframe tbody tr th:only-of-type {\n",
       "        vertical-align: middle;\n",
       "    }\n",
       "\n",
       "    .dataframe tbody tr th {\n",
       "        vertical-align: top;\n",
       "    }\n",
       "\n",
       "    .dataframe thead th {\n",
       "        text-align: right;\n",
       "    }\n",
       "</style>\n",
       "<table border=\"1\" class=\"dataframe\">\n",
       "  <thead>\n",
       "    <tr style=\"text-align: right;\">\n",
       "      <th></th>\n",
       "      <th>URL</th>\n",
       "      <th>GameType</th>\n",
       "      <th>Location</th>\n",
       "      <th>Date</th>\n",
       "      <th>Time</th>\n",
       "      <th>WinningTeam</th>\n",
       "      <th>Quarter</th>\n",
       "      <th>SecLeft</th>\n",
       "      <th>AwayTeam</th>\n",
       "      <th>AwayPlay</th>\n",
       "      <th>...</th>\n",
       "      <th>FreeThrowNum</th>\n",
       "      <th>EnterGame</th>\n",
       "      <th>LeaveGame</th>\n",
       "      <th>TurnoverPlayer</th>\n",
       "      <th>TurnoverType</th>\n",
       "      <th>TurnoverCause</th>\n",
       "      <th>TurnoverCauser</th>\n",
       "      <th>JumpballAwayPlayer</th>\n",
       "      <th>JumpballHomePlayer</th>\n",
       "      <th>JumpballPoss</th>\n",
       "    </tr>\n",
       "  </thead>\n",
       "  <tbody>\n",
       "    <tr>\n",
       "      <th>8</th>\n",
       "      <td>/boxscores/201810160BOS.html</td>\n",
       "      <td>regular</td>\n",
       "      <td>TD Garden Boston Massachusetts</td>\n",
       "      <td>October 16 2018</td>\n",
       "      <td>8:00 PM</td>\n",
       "      <td>BOS</td>\n",
       "      <td>1</td>\n",
       "      <td>655</td>\n",
       "      <td>PHI</td>\n",
       "      <td>J. Embiid makes 2-pt layup from 1 ft (assist b...</td>\n",
       "      <td>...</td>\n",
       "      <td>NaN</td>\n",
       "      <td>NaN</td>\n",
       "      <td>NaN</td>\n",
       "      <td>NaN</td>\n",
       "      <td>NaN</td>\n",
       "      <td>NaN</td>\n",
       "      <td>NaN</td>\n",
       "      <td>NaN</td>\n",
       "      <td>NaN</td>\n",
       "      <td>NaN</td>\n",
       "    </tr>\n",
       "    <tr>\n",
       "      <th>26</th>\n",
       "      <td>/boxscores/201810160BOS.html</td>\n",
       "      <td>regular</td>\n",
       "      <td>TD Garden Boston Massachusetts</td>\n",
       "      <td>October 16 2018</td>\n",
       "      <td>8:00 PM</td>\n",
       "      <td>BOS</td>\n",
       "      <td>1</td>\n",
       "      <td>559</td>\n",
       "      <td>PHI</td>\n",
       "      <td>NaN</td>\n",
       "      <td>...</td>\n",
       "      <td>NaN</td>\n",
       "      <td>NaN</td>\n",
       "      <td>NaN</td>\n",
       "      <td>NaN</td>\n",
       "      <td>NaN</td>\n",
       "      <td>NaN</td>\n",
       "      <td>NaN</td>\n",
       "      <td>NaN</td>\n",
       "      <td>NaN</td>\n",
       "      <td>NaN</td>\n",
       "    </tr>\n",
       "    <tr>\n",
       "      <th>30</th>\n",
       "      <td>/boxscores/201810160BOS.html</td>\n",
       "      <td>regular</td>\n",
       "      <td>TD Garden Boston Massachusetts</td>\n",
       "      <td>October 16 2018</td>\n",
       "      <td>8:00 PM</td>\n",
       "      <td>BOS</td>\n",
       "      <td>1</td>\n",
       "      <td>533</td>\n",
       "      <td>PHI</td>\n",
       "      <td>D. Saric makes 2-pt layup from 2 ft (assist by...</td>\n",
       "      <td>...</td>\n",
       "      <td>NaN</td>\n",
       "      <td>NaN</td>\n",
       "      <td>NaN</td>\n",
       "      <td>NaN</td>\n",
       "      <td>NaN</td>\n",
       "      <td>NaN</td>\n",
       "      <td>NaN</td>\n",
       "      <td>NaN</td>\n",
       "      <td>NaN</td>\n",
       "      <td>NaN</td>\n",
       "    </tr>\n",
       "    <tr>\n",
       "      <th>33</th>\n",
       "      <td>/boxscores/201810160BOS.html</td>\n",
       "      <td>regular</td>\n",
       "      <td>TD Garden Boston Massachusetts</td>\n",
       "      <td>October 16 2018</td>\n",
       "      <td>8:00 PM</td>\n",
       "      <td>BOS</td>\n",
       "      <td>1</td>\n",
       "      <td>508</td>\n",
       "      <td>PHI</td>\n",
       "      <td>NaN</td>\n",
       "      <td>...</td>\n",
       "      <td>NaN</td>\n",
       "      <td>NaN</td>\n",
       "      <td>NaN</td>\n",
       "      <td>NaN</td>\n",
       "      <td>NaN</td>\n",
       "      <td>NaN</td>\n",
       "      <td>NaN</td>\n",
       "      <td>NaN</td>\n",
       "      <td>NaN</td>\n",
       "      <td>NaN</td>\n",
       "    </tr>\n",
       "    <tr>\n",
       "      <th>34</th>\n",
       "      <td>/boxscores/201810160BOS.html</td>\n",
       "      <td>regular</td>\n",
       "      <td>TD Garden Boston Massachusetts</td>\n",
       "      <td>October 16 2018</td>\n",
       "      <td>8:00 PM</td>\n",
       "      <td>BOS</td>\n",
       "      <td>1</td>\n",
       "      <td>495</td>\n",
       "      <td>PHI</td>\n",
       "      <td>D. Saric makes 2-pt layup from 4 ft</td>\n",
       "      <td>...</td>\n",
       "      <td>NaN</td>\n",
       "      <td>NaN</td>\n",
       "      <td>NaN</td>\n",
       "      <td>NaN</td>\n",
       "      <td>NaN</td>\n",
       "      <td>NaN</td>\n",
       "      <td>NaN</td>\n",
       "      <td>NaN</td>\n",
       "      <td>NaN</td>\n",
       "      <td>NaN</td>\n",
       "    </tr>\n",
       "    <tr>\n",
       "      <th>38</th>\n",
       "      <td>/boxscores/201810160BOS.html</td>\n",
       "      <td>regular</td>\n",
       "      <td>TD Garden Boston Massachusetts</td>\n",
       "      <td>October 16 2018</td>\n",
       "      <td>8:00 PM</td>\n",
       "      <td>BOS</td>\n",
       "      <td>1</td>\n",
       "      <td>461</td>\n",
       "      <td>PHI</td>\n",
       "      <td>J. Embiid makes 2-pt jump shot from 14 ft</td>\n",
       "      <td>...</td>\n",
       "      <td>NaN</td>\n",
       "      <td>NaN</td>\n",
       "      <td>NaN</td>\n",
       "      <td>NaN</td>\n",
       "      <td>NaN</td>\n",
       "      <td>NaN</td>\n",
       "      <td>NaN</td>\n",
       "      <td>NaN</td>\n",
       "      <td>NaN</td>\n",
       "      <td>NaN</td>\n",
       "    </tr>\n",
       "    <tr>\n",
       "      <th>39</th>\n",
       "      <td>/boxscores/201810160BOS.html</td>\n",
       "      <td>regular</td>\n",
       "      <td>TD Garden Boston Massachusetts</td>\n",
       "      <td>October 16 2018</td>\n",
       "      <td>8:00 PM</td>\n",
       "      <td>BOS</td>\n",
       "      <td>1</td>\n",
       "      <td>446</td>\n",
       "      <td>PHI</td>\n",
       "      <td>NaN</td>\n",
       "      <td>...</td>\n",
       "      <td>NaN</td>\n",
       "      <td>NaN</td>\n",
       "      <td>NaN</td>\n",
       "      <td>NaN</td>\n",
       "      <td>NaN</td>\n",
       "      <td>NaN</td>\n",
       "      <td>NaN</td>\n",
       "      <td>NaN</td>\n",
       "      <td>NaN</td>\n",
       "      <td>NaN</td>\n",
       "    </tr>\n",
       "    <tr>\n",
       "      <th>56</th>\n",
       "      <td>/boxscores/201810160BOS.html</td>\n",
       "      <td>regular</td>\n",
       "      <td>TD Garden Boston Massachusetts</td>\n",
       "      <td>October 16 2018</td>\n",
       "      <td>8:00 PM</td>\n",
       "      <td>BOS</td>\n",
       "      <td>1</td>\n",
       "      <td>370</td>\n",
       "      <td>PHI</td>\n",
       "      <td>NaN</td>\n",
       "      <td>...</td>\n",
       "      <td>NaN</td>\n",
       "      <td>NaN</td>\n",
       "      <td>NaN</td>\n",
       "      <td>NaN</td>\n",
       "      <td>NaN</td>\n",
       "      <td>NaN</td>\n",
       "      <td>NaN</td>\n",
       "      <td>NaN</td>\n",
       "      <td>NaN</td>\n",
       "      <td>NaN</td>\n",
       "    </tr>\n",
       "    <tr>\n",
       "      <th>61</th>\n",
       "      <td>/boxscores/201810160BOS.html</td>\n",
       "      <td>regular</td>\n",
       "      <td>TD Garden Boston Massachusetts</td>\n",
       "      <td>October 16 2018</td>\n",
       "      <td>8:00 PM</td>\n",
       "      <td>BOS</td>\n",
       "      <td>1</td>\n",
       "      <td>341</td>\n",
       "      <td>PHI</td>\n",
       "      <td>NaN</td>\n",
       "      <td>...</td>\n",
       "      <td>NaN</td>\n",
       "      <td>NaN</td>\n",
       "      <td>NaN</td>\n",
       "      <td>NaN</td>\n",
       "      <td>NaN</td>\n",
       "      <td>NaN</td>\n",
       "      <td>NaN</td>\n",
       "      <td>NaN</td>\n",
       "      <td>NaN</td>\n",
       "      <td>NaN</td>\n",
       "    </tr>\n",
       "    <tr>\n",
       "      <th>72</th>\n",
       "      <td>/boxscores/201810160BOS.html</td>\n",
       "      <td>regular</td>\n",
       "      <td>TD Garden Boston Massachusetts</td>\n",
       "      <td>October 16 2018</td>\n",
       "      <td>8:00 PM</td>\n",
       "      <td>BOS</td>\n",
       "      <td>1</td>\n",
       "      <td>290</td>\n",
       "      <td>PHI</td>\n",
       "      <td>B. Simmons makes 2-pt layup from 1 ft</td>\n",
       "      <td>...</td>\n",
       "      <td>NaN</td>\n",
       "      <td>NaN</td>\n",
       "      <td>NaN</td>\n",
       "      <td>NaN</td>\n",
       "      <td>NaN</td>\n",
       "      <td>NaN</td>\n",
       "      <td>NaN</td>\n",
       "      <td>NaN</td>\n",
       "      <td>NaN</td>\n",
       "      <td>NaN</td>\n",
       "    </tr>\n",
       "  </tbody>\n",
       "</table>\n",
       "<p>10 rows × 40 columns</p>\n",
       "</div>"
      ],
      "text/plain": [
       "                             URL GameType                        Location  \\\n",
       "8   /boxscores/201810160BOS.html  regular  TD Garden Boston Massachusetts   \n",
       "26  /boxscores/201810160BOS.html  regular  TD Garden Boston Massachusetts   \n",
       "30  /boxscores/201810160BOS.html  regular  TD Garden Boston Massachusetts   \n",
       "33  /boxscores/201810160BOS.html  regular  TD Garden Boston Massachusetts   \n",
       "34  /boxscores/201810160BOS.html  regular  TD Garden Boston Massachusetts   \n",
       "38  /boxscores/201810160BOS.html  regular  TD Garden Boston Massachusetts   \n",
       "39  /boxscores/201810160BOS.html  regular  TD Garden Boston Massachusetts   \n",
       "56  /boxscores/201810160BOS.html  regular  TD Garden Boston Massachusetts   \n",
       "61  /boxscores/201810160BOS.html  regular  TD Garden Boston Massachusetts   \n",
       "72  /boxscores/201810160BOS.html  regular  TD Garden Boston Massachusetts   \n",
       "\n",
       "               Date     Time WinningTeam  Quarter  SecLeft AwayTeam  \\\n",
       "8   October 16 2018  8:00 PM         BOS        1      655      PHI   \n",
       "26  October 16 2018  8:00 PM         BOS        1      559      PHI   \n",
       "30  October 16 2018  8:00 PM         BOS        1      533      PHI   \n",
       "33  October 16 2018  8:00 PM         BOS        1      508      PHI   \n",
       "34  October 16 2018  8:00 PM         BOS        1      495      PHI   \n",
       "38  October 16 2018  8:00 PM         BOS        1      461      PHI   \n",
       "39  October 16 2018  8:00 PM         BOS        1      446      PHI   \n",
       "56  October 16 2018  8:00 PM         BOS        1      370      PHI   \n",
       "61  October 16 2018  8:00 PM         BOS        1      341      PHI   \n",
       "72  October 16 2018  8:00 PM         BOS        1      290      PHI   \n",
       "\n",
       "                                             AwayPlay  ...  FreeThrowNum  \\\n",
       "8   J. Embiid makes 2-pt layup from 1 ft (assist b...  ...           NaN   \n",
       "26                                                NaN  ...           NaN   \n",
       "30  D. Saric makes 2-pt layup from 2 ft (assist by...  ...           NaN   \n",
       "33                                                NaN  ...           NaN   \n",
       "34                D. Saric makes 2-pt layup from 4 ft  ...           NaN   \n",
       "38          J. Embiid makes 2-pt jump shot from 14 ft  ...           NaN   \n",
       "39                                                NaN  ...           NaN   \n",
       "56                                                NaN  ...           NaN   \n",
       "61                                                NaN  ...           NaN   \n",
       "72              B. Simmons makes 2-pt layup from 1 ft  ...           NaN   \n",
       "\n",
       "   EnterGame LeaveGame  TurnoverPlayer TurnoverType TurnoverCause  \\\n",
       "8        NaN       NaN             NaN          NaN           NaN   \n",
       "26       NaN       NaN             NaN          NaN           NaN   \n",
       "30       NaN       NaN             NaN          NaN           NaN   \n",
       "33       NaN       NaN             NaN          NaN           NaN   \n",
       "34       NaN       NaN             NaN          NaN           NaN   \n",
       "38       NaN       NaN             NaN          NaN           NaN   \n",
       "39       NaN       NaN             NaN          NaN           NaN   \n",
       "56       NaN       NaN             NaN          NaN           NaN   \n",
       "61       NaN       NaN             NaN          NaN           NaN   \n",
       "72       NaN       NaN             NaN          NaN           NaN   \n",
       "\n",
       "   TurnoverCauser  JumpballAwayPlayer JumpballHomePlayer JumpballPoss  \n",
       "8             NaN                 NaN                NaN          NaN  \n",
       "26            NaN                 NaN                NaN          NaN  \n",
       "30            NaN                 NaN                NaN          NaN  \n",
       "33            NaN                 NaN                NaN          NaN  \n",
       "34            NaN                 NaN                NaN          NaN  \n",
       "38            NaN                 NaN                NaN          NaN  \n",
       "39            NaN                 NaN                NaN          NaN  \n",
       "56            NaN                 NaN                NaN          NaN  \n",
       "61            NaN                 NaN                NaN          NaN  \n",
       "72            NaN                 NaN                NaN          NaN  \n",
       "\n",
       "[10 rows x 40 columns]"
      ]
     },
     "execution_count": 44,
     "metadata": {},
     "output_type": "execute_result"
    }
   ],
   "source": [
    "playbyplayData.head(10)"
   ]
  },
  {
   "cell_type": "code",
   "execution_count": 45,
   "metadata": {},
   "outputs": [],
   "source": [
    "playbyplayData = playbyplayData.dropna(subset = [\"ShotDist\"])"
   ]
  },
  {
   "cell_type": "code",
   "execution_count": 46,
   "metadata": {},
   "outputs": [
    {
     "data": {
      "text/plain": [
       "(107373, 40)"
      ]
     },
     "execution_count": 46,
     "metadata": {},
     "output_type": "execute_result"
    }
   ],
   "source": [
    "playbyplayData.shape"
   ]
  },
  {
   "cell_type": "markdown",
   "metadata": {},
   "source": [
    "Play by Play data is now cleaned to remove any missed shots and missing values. Let's parse the distances."
   ]
  },
  {
   "cell_type": "code",
   "execution_count": 47,
   "metadata": {},
   "outputs": [
    {
     "data": {
      "text/plain": [
       "Index(['URL', 'GameType', 'Location', 'Date', 'Time', 'WinningTeam', 'Quarter',\n",
       "       'SecLeft', 'AwayTeam', 'AwayPlay', 'AwayScore', 'HomeTeam', 'HomePlay',\n",
       "       'HomeScore', 'Shooter', 'ShotType', 'ShotOutcome', 'ShotDist',\n",
       "       'Assister', 'Blocker', 'FoulType', 'Fouler', 'Fouled', 'Rebounder',\n",
       "       'ReboundType', 'ViolationPlayer', 'ViolationType', 'TimeoutTeam',\n",
       "       'FreeThrowShooter', 'FreeThrowOutcome', 'FreeThrowNum', 'EnterGame',\n",
       "       'LeaveGame', 'TurnoverPlayer', 'TurnoverType', 'TurnoverCause',\n",
       "       'TurnoverCauser', 'JumpballAwayPlayer', 'JumpballHomePlayer',\n",
       "       'JumpballPoss'],\n",
       "      dtype='object')"
      ]
     },
     "execution_count": 47,
     "metadata": {},
     "output_type": "execute_result"
    }
   ],
   "source": [
    "playbyplayData.columns"
   ]
  },
  {
   "cell_type": "code",
   "execution_count": 10,
   "metadata": {},
   "outputs": [
    {
     "data": {
      "text/plain": [
       "8          1.0\n",
       "26        15.0\n",
       "30         2.0\n",
       "33        13.0\n",
       "34         4.0\n",
       "          ... \n",
       "613623     9.0\n",
       "613633    13.0\n",
       "613634    25.0\n",
       "613645     1.0\n",
       "613648    13.0\n",
       "Name: ShotDist, Length: 107373, dtype: float64"
      ]
     },
     "execution_count": 10,
     "metadata": {},
     "output_type": "execute_result"
    }
   ],
   "source": [
    "shotDistances = playbyplayData['ShotDist']\n",
    "shotDistances"
   ]
  },
  {
   "cell_type": "code",
   "execution_count": 11,
   "metadata": {},
   "outputs": [
    {
     "data": {
      "text/plain": [
       "60.0"
      ]
     },
     "execution_count": 11,
     "metadata": {},
     "output_type": "execute_result"
    }
   ],
   "source": [
    "shotDistances.max() # LOL halfcourt shot"
   ]
  },
  {
   "cell_type": "code",
   "execution_count": 25,
   "metadata": {},
   "outputs": [
    {
     "data": {
      "text/plain": [
       "0.0"
      ]
     },
     "execution_count": 25,
     "metadata": {},
     "output_type": "execute_result"
    }
   ],
   "source": [
    "shotDistances.min()"
   ]
  },
  {
   "cell_type": "code",
   "execution_count": 12,
   "metadata": {},
   "outputs": [],
   "source": [
    "cleanDist = shotDistances.to_numpy().reshape(-1, 1)"
   ]
  },
  {
   "cell_type": "code",
   "execution_count": 1,
   "metadata": {},
   "outputs": [],
   "source": [
    "## Seeing if the > 30 ft makes sense\n",
    "\n",
    "# pd.set_option('display.max_columns', None)\n",
    "# pd.set_option('display.max_rows', None)\n",
    "# playbyplayData[playbyplayData['ShotDist'] >= 30]"
   ]
  },
  {
   "cell_type": "markdown",
   "metadata": {},
   "source": [
    "### Bins using Freedman-Diaconis Rule"
   ]
  },
  {
   "cell_type": "code",
   "execution_count": 23,
   "metadata": {},
   "outputs": [],
   "source": [
    "def freedman_diaconis(data, returnas = \"width\"):\n",
    "    \"\"\"\n",
    "    Use Freedman Diaconis rule to compute optimal histogram bin width. \n",
    "    ``returnas`` can be one of \"width\" or \"bins\", indicating whether\n",
    "    the bin width or number of bins should be returned respectively. \n",
    "\n",
    "\n",
    "    Parameters\n",
    "    ----------\n",
    "    data: np.ndarray\n",
    "        One-dimensional array.\n",
    "\n",
    "    returnas: {\"width\", \"bins\"}\n",
    "        If \"width\", return the estimated width for each histogram bin. \n",
    "        If \"bins\", return the number of bins suggested by rule.\n",
    "    \"\"\"\n",
    "    data = np.asarray(data, dtype = np.float_)\n",
    "    IQR = stats.iqr(data, rng = (25,75), scale = \"raw\", nan_policy = \"omit\")\n",
    "    N = data.size\n",
    "    bw = (2*IQR)/ np.power(N,1/3)\n",
    "\n",
    "    if returnas == \"width\":\n",
    "        result = bw\n",
    "    else:\n",
    "        datmin,datmax = data.min(), data.max()\n",
    "        datrng = datmax - datmin\n",
    "        result = int((datrng/bw) + 1)\n",
    "\n",
    "    return(result)"
   ]
  },
  {
   "cell_type": "code",
   "execution_count": 24,
   "metadata": {},
   "outputs": [
    {
     "data": {
      "text/plain": [
       "68"
      ]
     },
     "execution_count": 24,
     "metadata": {},
     "output_type": "execute_result"
    }
   ],
   "source": [
    "freedman_diaconis(data = cleanDist, returnas = \"bins\")"
   ]
  },
  {
   "cell_type": "code",
   "execution_count": 4,
   "metadata": {},
   "outputs": [
    {
     "name": "stdout",
     "output_type": "stream",
     "text": [
      "Collecting jenkspy\n",
      "\u001b[?25l  Downloading https://files.pythonhosted.org/packages/bf/e6/ce363f30ac36550e0572c6cc878ea794776f7063dff8c1e2e4edad0aa63f/jenkspy-0.1.5.tar.gz (49kB)\n",
      "\u001b[K     |████████████████████████████████| 51kB 1.2MB/s \n",
      "\u001b[?25hBuilding wheels for collected packages: jenkspy\n",
      "  Building wheel for jenkspy (setup.py) ... \u001b[?25ldone\n",
      "\u001b[?25h  Stored in directory: /Users/dereklee/Library/Caches/pip/wheels/14/1d/b0/45b9ac586dd190ca029df1965fe9f497327506376d51422475\n",
      "Successfully built jenkspy\n",
      "Installing collected packages: jenkspy\n",
      "Successfully installed jenkspy-0.1.5\n",
      "Note: you may need to restart the kernel to use updated packages.\n"
     ]
    }
   ],
   "source": [
    "pip install jenkspy"
   ]
  },
  {
   "cell_type": "code",
   "execution_count": 1,
   "metadata": {},
   "outputs": [
    {
     "ename": "ModuleNotFoundError",
     "evalue": "No module named 'urlparse'",
     "output_type": "error",
     "traceback": [
      "\u001b[0;31m---------------------------------------------------------------------------\u001b[0m",
      "\u001b[0;31mModuleNotFoundError\u001b[0m                       Traceback (most recent call last)",
      "\u001b[0;32m<ipython-input-1-4841ec369a93>\u001b[0m in \u001b[0;36m<module>\u001b[0;34m\u001b[0m\n\u001b[0;32m----> 1\u001b[0;31m \u001b[0;32mfrom\u001b[0m \u001b[0mjenks\u001b[0m \u001b[0;32mimport\u001b[0m \u001b[0mjenks\u001b[0m\u001b[0;34m\u001b[0m\u001b[0;34m\u001b[0m\u001b[0m\n\u001b[0m\u001b[1;32m      2\u001b[0m \u001b[0;32mimport\u001b[0m \u001b[0mnumpy\u001b[0m \u001b[0;32mas\u001b[0m \u001b[0mnp\u001b[0m\u001b[0;34m\u001b[0m\u001b[0;34m\u001b[0m\u001b[0m\n\u001b[1;32m      3\u001b[0m \u001b[0;32mdef\u001b[0m \u001b[0mgoodness_of_variance_fit\u001b[0m\u001b[0;34m(\u001b[0m\u001b[0marray\u001b[0m\u001b[0;34m,\u001b[0m \u001b[0mclasses\u001b[0m\u001b[0;34m)\u001b[0m\u001b[0;34m:\u001b[0m\u001b[0;34m\u001b[0m\u001b[0;34m\u001b[0m\u001b[0m\n\u001b[1;32m      4\u001b[0m     \u001b[0;31m# get the break points\u001b[0m\u001b[0;34m\u001b[0m\u001b[0;34m\u001b[0m\u001b[0;34m\u001b[0m\u001b[0m\n\u001b[1;32m      5\u001b[0m     \u001b[0mclasses\u001b[0m \u001b[0;34m=\u001b[0m \u001b[0mjenks\u001b[0m\u001b[0;34m(\u001b[0m\u001b[0marray\u001b[0m\u001b[0;34m,\u001b[0m \u001b[0mclasses\u001b[0m\u001b[0;34m)\u001b[0m\u001b[0;34m\u001b[0m\u001b[0;34m\u001b[0m\u001b[0m\n",
      "\u001b[0;32m~/anaconda3/lib/python3.6/site-packages/jenks/__init__.py\u001b[0m in \u001b[0;36m<module>\u001b[0;34m\u001b[0m\n\u001b[1;32m     29\u001b[0m \u001b[0;32mfrom\u001b[0m \u001b[0;34m.\u001b[0m\u001b[0mcommand\u001b[0m \u001b[0;32mimport\u001b[0m \u001b[0mList\u001b[0m\u001b[0;34m,\u001b[0m \u001b[0mStatus\u001b[0m\u001b[0;34m\u001b[0m\u001b[0;34m\u001b[0m\u001b[0m\n\u001b[1;32m     30\u001b[0m \u001b[0;32mfrom\u001b[0m \u001b[0;34m.\u001b[0m\u001b[0mdocs\u001b[0m \u001b[0;32mimport\u001b[0m \u001b[0mDOCS\u001b[0m\u001b[0;34m,\u001b[0m \u001b[0mREADME_CONTENT\u001b[0m\u001b[0;34m\u001b[0m\u001b[0;34m\u001b[0m\u001b[0m\n\u001b[0;32m---> 31\u001b[0;31m \u001b[0;32mfrom\u001b[0m \u001b[0;34m.\u001b[0m\u001b[0msubcommand\u001b[0m \u001b[0;32mimport\u001b[0m \u001b[0mbuild\u001b[0m\u001b[0;34m,\u001b[0m \u001b[0mconfig\u001b[0m\u001b[0;34m,\u001b[0m \u001b[0mtrigger\u001b[0m\u001b[0;34m\u001b[0m\u001b[0;34m\u001b[0m\u001b[0m\n\u001b[0m\u001b[1;32m     32\u001b[0m \u001b[0;34m\u001b[0m\u001b[0m\n\u001b[1;32m     33\u001b[0m \u001b[0;34m\u001b[0m\u001b[0m\n",
      "\u001b[0;32m~/anaconda3/lib/python3.6/site-packages/jenks/subcommand/config.py\u001b[0m in \u001b[0;36m<module>\u001b[0;34m\u001b[0m\n\u001b[1;32m     11\u001b[0m \"\"\"\n\u001b[1;32m     12\u001b[0m \u001b[0;32mimport\u001b[0m \u001b[0mlogging\u001b[0m\u001b[0;34m\u001b[0m\u001b[0;34m\u001b[0m\u001b[0m\n\u001b[0;32m---> 13\u001b[0;31m \u001b[0;32mfrom\u001b[0m \u001b[0murlparse\u001b[0m \u001b[0;32mimport\u001b[0m \u001b[0murlparse\u001b[0m\u001b[0;34m\u001b[0m\u001b[0;34m\u001b[0m\u001b[0m\n\u001b[0m\u001b[1;32m     14\u001b[0m \u001b[0;34m\u001b[0m\u001b[0m\n\u001b[1;32m     15\u001b[0m \u001b[0;32mfrom\u001b[0m \u001b[0mdocopt\u001b[0m \u001b[0;32mimport\u001b[0m \u001b[0mdocopt\u001b[0m\u001b[0;34m\u001b[0m\u001b[0;34m\u001b[0m\u001b[0m\n",
      "\u001b[0;31mModuleNotFoundError\u001b[0m: No module named 'urlparse'"
     ]
    }
   ],
   "source": [
    "import pandas as pd\n",
    "import jenkspy\n",
    "\n",
    "sales = {\n",
    "    'account': [\n",
    "        'Jones Inc', 'Alpha Co', 'Blue Inc', 'Super Star Inc', 'Wamo',\n",
    "        'Next Gen', 'Giga Co', 'IniTech', 'Beta LLC'\n",
    "    ],\n",
    "    'Total': [1500, 2100, 50, 20, 75, 1100, 950, 1300, 1400]\n",
    "}\n",
    "df = pd.DataFrame(sales)\n",
    "df.sort_values(by='Total')"
   ]
  },
  {
   "cell_type": "markdown",
   "metadata": {},
   "source": [
    "### Histogram with 68 bins\n",
    "With 68 bins, you'll notice the data nicely gets grouped into 5 larger overall groups. I'd like to think that you could use this as a fair breakdown of the shot distance groups. With that being said, you'll notice the shot distances can be grouped as: **0-7ft**, **8-14ft**, **15-22ft**, **23-29ft**, and **30+ft**"
   ]
  },
  {
   "cell_type": "code",
   "execution_count": 65,
   "metadata": {},
   "outputs": [
    {
     "data": {
      "image/png": "[encoded data removed]",
      "text/plain": [
       "<Figure size 1200x480 with 1 Axes>"
      ]
     },
     "metadata": {},
     "output_type": "display_data"
    }
   ],
   "source": [
    "from matplotlib.pyplot import figure\n",
    "figure(num=None, figsize=(15, 6), dpi=80, facecolor='w', edgecolor='k')\n",
    "plt.title('2018-19 NBA Made Shot Distances')\n",
    "plt.xlabel('Shot Distance (ft)')\n",
    "plt.ylabel('Number of made shots')\n",
    "plt.hist(cleanDist, bins = 68)\n",
    "plt.xticks(np.arange(0, 40, step=1))\n",
    "plt.show()\n"
   ]
  },
  {
   "cell_type": "markdown",
   "metadata": {},
   "source": [
    "### With our new groupings of shot distances, what's the next step?\n",
    "We can take a number of approaches here.  \n",
    "1) Look at NBA players and identify which bucket of distances they are most successfull at shooting in. This could mean the % of makes at each distance bucket too.  \n",
    "2) Look at NBA offenses and identify where most of their makes are falling in perhaps using the above histogram on a team by team basis. This season data shows us that basically there's an over-reliance of shots in the paint and 3 point shots in the NBA. Let's use the histogram to figure out where each team likes to shoot (shot selection).\n",
    "\n",
    "I think perhaps the way to go is option 2 and then find players that fit that profile (option 1). So both!"
   ]
  },
  {
   "cell_type": "code",
   "execution_count": 17,
   "metadata": {},
   "outputs": [
    {
     "data": {
      "text/html": [
       "<div>\n",
       "<style scoped>\n",
       "    .dataframe tbody tr th:only-of-type {\n",
       "        vertical-align: middle;\n",
       "    }\n",
       "\n",
       "    .dataframe tbody tr th {\n",
       "        vertical-align: top;\n",
       "    }\n",
       "\n",
       "    .dataframe thead th {\n",
       "        text-align: right;\n",
       "    }\n",
       "</style>\n",
       "<table border=\"1\" class=\"dataframe\">\n",
       "  <thead>\n",
       "    <tr style=\"text-align: right;\">\n",
       "      <th></th>\n",
       "      <th>URL</th>\n",
       "      <th>GameType</th>\n",
       "      <th>Location</th>\n",
       "      <th>Date</th>\n",
       "      <th>Time</th>\n",
       "      <th>WinningTeam</th>\n",
       "      <th>Quarter</th>\n",
       "      <th>SecLeft</th>\n",
       "      <th>AwayTeam</th>\n",
       "      <th>AwayPlay</th>\n",
       "      <th>...</th>\n",
       "      <th>FreeThrowNum</th>\n",
       "      <th>EnterGame</th>\n",
       "      <th>LeaveGame</th>\n",
       "      <th>TurnoverPlayer</th>\n",
       "      <th>TurnoverType</th>\n",
       "      <th>TurnoverCause</th>\n",
       "      <th>TurnoverCauser</th>\n",
       "      <th>JumpballAwayPlayer</th>\n",
       "      <th>JumpballHomePlayer</th>\n",
       "      <th>JumpballPoss</th>\n",
       "    </tr>\n",
       "  </thead>\n",
       "  <tbody>\n",
       "    <tr>\n",
       "      <th>5380</th>\n",
       "      <td>/boxscores/201810170SAS.html</td>\n",
       "      <td>regular</td>\n",
       "      <td>AT&amp;T Center San Antonio Texas</td>\n",
       "      <td>October 17 2018</td>\n",
       "      <td>8:30 PM</td>\n",
       "      <td>SAS</td>\n",
       "      <td>1</td>\n",
       "      <td>716</td>\n",
       "      <td>MIN</td>\n",
       "      <td>Jump ball: K. Towns vs. J. Poeltl (T. Gibson g...</td>\n",
       "      <td>...</td>\n",
       "      <td>NaN</td>\n",
       "      <td>NaN</td>\n",
       "      <td>NaN</td>\n",
       "      <td>NaN</td>\n",
       "      <td>NaN</td>\n",
       "      <td>NaN</td>\n",
       "      <td>NaN</td>\n",
       "      <td>K. Towns - MIN</td>\n",
       "      <td>J. Poeltl - SAS</td>\n",
       "      <td>T. Gibson</td>\n",
       "    </tr>\n",
       "    <tr>\n",
       "      <th>5381</th>\n",
       "      <td>/boxscores/201810170SAS.html</td>\n",
       "      <td>regular</td>\n",
       "      <td>AT&amp;T Center San Antonio Texas</td>\n",
       "      <td>October 17 2018</td>\n",
       "      <td>8:30 PM</td>\n",
       "      <td>SAS</td>\n",
       "      <td>1</td>\n",
       "      <td>706</td>\n",
       "      <td>MIN</td>\n",
       "      <td>A. Wiggins misses 3-pt jump shot from 25 ft</td>\n",
       "      <td>...</td>\n",
       "      <td>NaN</td>\n",
       "      <td>NaN</td>\n",
       "      <td>NaN</td>\n",
       "      <td>NaN</td>\n",
       "      <td>NaN</td>\n",
       "      <td>NaN</td>\n",
       "      <td>NaN</td>\n",
       "      <td>NaN</td>\n",
       "      <td>NaN</td>\n",
       "      <td>NaN</td>\n",
       "    </tr>\n",
       "    <tr>\n",
       "      <th>5382</th>\n",
       "      <td>/boxscores/201810170SAS.html</td>\n",
       "      <td>regular</td>\n",
       "      <td>AT&amp;T Center San Antonio Texas</td>\n",
       "      <td>October 17 2018</td>\n",
       "      <td>8:30 PM</td>\n",
       "      <td>SAS</td>\n",
       "      <td>1</td>\n",
       "      <td>704</td>\n",
       "      <td>MIN</td>\n",
       "      <td>NaN</td>\n",
       "      <td>...</td>\n",
       "      <td>NaN</td>\n",
       "      <td>NaN</td>\n",
       "      <td>NaN</td>\n",
       "      <td>NaN</td>\n",
       "      <td>NaN</td>\n",
       "      <td>NaN</td>\n",
       "      <td>NaN</td>\n",
       "      <td>NaN</td>\n",
       "      <td>NaN</td>\n",
       "      <td>NaN</td>\n",
       "    </tr>\n",
       "    <tr>\n",
       "      <th>5383</th>\n",
       "      <td>/boxscores/201810170SAS.html</td>\n",
       "      <td>regular</td>\n",
       "      <td>AT&amp;T Center San Antonio Texas</td>\n",
       "      <td>October 17 2018</td>\n",
       "      <td>8:30 PM</td>\n",
       "      <td>SAS</td>\n",
       "      <td>1</td>\n",
       "      <td>695</td>\n",
       "      <td>MIN</td>\n",
       "      <td>NaN</td>\n",
       "      <td>...</td>\n",
       "      <td>NaN</td>\n",
       "      <td>NaN</td>\n",
       "      <td>NaN</td>\n",
       "      <td>NaN</td>\n",
       "      <td>NaN</td>\n",
       "      <td>NaN</td>\n",
       "      <td>NaN</td>\n",
       "      <td>NaN</td>\n",
       "      <td>NaN</td>\n",
       "      <td>NaN</td>\n",
       "    </tr>\n",
       "    <tr>\n",
       "      <th>5384</th>\n",
       "      <td>/boxscores/201810170SAS.html</td>\n",
       "      <td>regular</td>\n",
       "      <td>AT&amp;T Center San Antonio Texas</td>\n",
       "      <td>October 17 2018</td>\n",
       "      <td>8:30 PM</td>\n",
       "      <td>SAS</td>\n",
       "      <td>1</td>\n",
       "      <td>692</td>\n",
       "      <td>MIN</td>\n",
       "      <td>NaN</td>\n",
       "      <td>...</td>\n",
       "      <td>NaN</td>\n",
       "      <td>NaN</td>\n",
       "      <td>NaN</td>\n",
       "      <td>NaN</td>\n",
       "      <td>NaN</td>\n",
       "      <td>NaN</td>\n",
       "      <td>NaN</td>\n",
       "      <td>NaN</td>\n",
       "      <td>NaN</td>\n",
       "      <td>NaN</td>\n",
       "    </tr>\n",
       "    <tr>\n",
       "      <th>...</th>\n",
       "      <td>...</td>\n",
       "      <td>...</td>\n",
       "      <td>...</td>\n",
       "      <td>...</td>\n",
       "      <td>...</td>\n",
       "      <td>...</td>\n",
       "      <td>...</td>\n",
       "      <td>...</td>\n",
       "      <td>...</td>\n",
       "      <td>...</td>\n",
       "      <td>...</td>\n",
       "      <td>...</td>\n",
       "      <td>...</td>\n",
       "      <td>...</td>\n",
       "      <td>...</td>\n",
       "      <td>...</td>\n",
       "      <td>...</td>\n",
       "      <td>...</td>\n",
       "      <td>...</td>\n",
       "      <td>...</td>\n",
       "      <td>...</td>\n",
       "    </tr>\n",
       "    <tr>\n",
       "      <th>606527</th>\n",
       "      <td>/boxscores/201810270SAS.html</td>\n",
       "      <td>regular</td>\n",
       "      <td>AT&amp;T Center San Antonio Texas</td>\n",
       "      <td>October 27 2018</td>\n",
       "      <td>8:30 PM</td>\n",
       "      <td>SAS</td>\n",
       "      <td>4</td>\n",
       "      <td>2</td>\n",
       "      <td>LAL</td>\n",
       "      <td>NaN</td>\n",
       "      <td>...</td>\n",
       "      <td>1 of 2</td>\n",
       "      <td>NaN</td>\n",
       "      <td>NaN</td>\n",
       "      <td>NaN</td>\n",
       "      <td>NaN</td>\n",
       "      <td>NaN</td>\n",
       "      <td>NaN</td>\n",
       "      <td>NaN</td>\n",
       "      <td>NaN</td>\n",
       "      <td>NaN</td>\n",
       "    </tr>\n",
       "    <tr>\n",
       "      <th>606528</th>\n",
       "      <td>/boxscores/201810270SAS.html</td>\n",
       "      <td>regular</td>\n",
       "      <td>AT&amp;T Center San Antonio Texas</td>\n",
       "      <td>October 27 2018</td>\n",
       "      <td>8:30 PM</td>\n",
       "      <td>SAS</td>\n",
       "      <td>4</td>\n",
       "      <td>2</td>\n",
       "      <td>LAL</td>\n",
       "      <td>NaN</td>\n",
       "      <td>...</td>\n",
       "      <td>NaN</td>\n",
       "      <td>D. Cunningham - SAS</td>\n",
       "      <td>L. Aldridge - SAS</td>\n",
       "      <td>NaN</td>\n",
       "      <td>NaN</td>\n",
       "      <td>NaN</td>\n",
       "      <td>NaN</td>\n",
       "      <td>NaN</td>\n",
       "      <td>NaN</td>\n",
       "      <td>NaN</td>\n",
       "    </tr>\n",
       "    <tr>\n",
       "      <th>606529</th>\n",
       "      <td>/boxscores/201810270SAS.html</td>\n",
       "      <td>regular</td>\n",
       "      <td>AT&amp;T Center San Antonio Texas</td>\n",
       "      <td>October 27 2018</td>\n",
       "      <td>8:30 PM</td>\n",
       "      <td>SAS</td>\n",
       "      <td>4</td>\n",
       "      <td>2</td>\n",
       "      <td>LAL</td>\n",
       "      <td>NaN</td>\n",
       "      <td>...</td>\n",
       "      <td>2 of 2</td>\n",
       "      <td>NaN</td>\n",
       "      <td>NaN</td>\n",
       "      <td>NaN</td>\n",
       "      <td>NaN</td>\n",
       "      <td>NaN</td>\n",
       "      <td>NaN</td>\n",
       "      <td>NaN</td>\n",
       "      <td>NaN</td>\n",
       "      <td>NaN</td>\n",
       "    </tr>\n",
       "    <tr>\n",
       "      <th>606530</th>\n",
       "      <td>/boxscores/201810270SAS.html</td>\n",
       "      <td>regular</td>\n",
       "      <td>AT&amp;T Center San Antonio Texas</td>\n",
       "      <td>October 27 2018</td>\n",
       "      <td>8:30 PM</td>\n",
       "      <td>SAS</td>\n",
       "      <td>4</td>\n",
       "      <td>0</td>\n",
       "      <td>LAL</td>\n",
       "      <td>Turnover by R. Rondo (bad pass; steal by D. Cu...</td>\n",
       "      <td>...</td>\n",
       "      <td>NaN</td>\n",
       "      <td>NaN</td>\n",
       "      <td>NaN</td>\n",
       "      <td>R. Rondo - LAL</td>\n",
       "      <td>bad pass</td>\n",
       "      <td>steal</td>\n",
       "      <td>D. Cunningham - SAS</td>\n",
       "      <td>NaN</td>\n",
       "      <td>NaN</td>\n",
       "      <td>NaN</td>\n",
       "    </tr>\n",
       "    <tr>\n",
       "      <th>606531</th>\n",
       "      <td>/boxscores/201810270SAS.html</td>\n",
       "      <td>regular</td>\n",
       "      <td>AT&amp;T Center San Antonio Texas</td>\n",
       "      <td>October 27 2018</td>\n",
       "      <td>8:30 PM</td>\n",
       "      <td>SAS</td>\n",
       "      <td>4</td>\n",
       "      <td>0</td>\n",
       "      <td>LAL</td>\n",
       "      <td>End of Game</td>\n",
       "      <td>...</td>\n",
       "      <td>NaN</td>\n",
       "      <td>NaN</td>\n",
       "      <td>NaN</td>\n",
       "      <td>NaN</td>\n",
       "      <td>NaN</td>\n",
       "      <td>NaN</td>\n",
       "      <td>NaN</td>\n",
       "      <td>NaN</td>\n",
       "      <td>NaN</td>\n",
       "      <td>NaN</td>\n",
       "    </tr>\n",
       "  </tbody>\n",
       "</table>\n",
       "<p>40061 rows × 40 columns</p>\n",
       "</div>"
      ],
      "text/plain": [
       "                                 URL GameType                       Location  \\\n",
       "5380    /boxscores/201810170SAS.html  regular  AT&T Center San Antonio Texas   \n",
       "5381    /boxscores/201810170SAS.html  regular  AT&T Center San Antonio Texas   \n",
       "5382    /boxscores/201810170SAS.html  regular  AT&T Center San Antonio Texas   \n",
       "5383    /boxscores/201810170SAS.html  regular  AT&T Center San Antonio Texas   \n",
       "5384    /boxscores/201810170SAS.html  regular  AT&T Center San Antonio Texas   \n",
       "...                              ...      ...                            ...   \n",
       "606527  /boxscores/201810270SAS.html  regular  AT&T Center San Antonio Texas   \n",
       "606528  /boxscores/201810270SAS.html  regular  AT&T Center San Antonio Texas   \n",
       "606529  /boxscores/201810270SAS.html  regular  AT&T Center San Antonio Texas   \n",
       "606530  /boxscores/201810270SAS.html  regular  AT&T Center San Antonio Texas   \n",
       "606531  /boxscores/201810270SAS.html  regular  AT&T Center San Antonio Texas   \n",
       "\n",
       "                   Date     Time WinningTeam  Quarter  SecLeft AwayTeam  \\\n",
       "5380    October 17 2018  8:30 PM         SAS        1      716      MIN   \n",
       "5381    October 17 2018  8:30 PM         SAS        1      706      MIN   \n",
       "5382    October 17 2018  8:30 PM         SAS        1      704      MIN   \n",
       "5383    October 17 2018  8:30 PM         SAS        1      695      MIN   \n",
       "5384    October 17 2018  8:30 PM         SAS        1      692      MIN   \n",
       "...                 ...      ...         ...      ...      ...      ...   \n",
       "606527  October 27 2018  8:30 PM         SAS        4        2      LAL   \n",
       "606528  October 27 2018  8:30 PM         SAS        4        2      LAL   \n",
       "606529  October 27 2018  8:30 PM         SAS        4        2      LAL   \n",
       "606530  October 27 2018  8:30 PM         SAS        4        0      LAL   \n",
       "606531  October 27 2018  8:30 PM         SAS        4        0      LAL   \n",
       "\n",
       "                                                 AwayPlay  ...  FreeThrowNum  \\\n",
       "5380    Jump ball: K. Towns vs. J. Poeltl (T. Gibson g...  ...           NaN   \n",
       "5381          A. Wiggins misses 3-pt jump shot from 25 ft  ...           NaN   \n",
       "5382                                                  NaN  ...           NaN   \n",
       "5383                                                  NaN  ...           NaN   \n",
       "5384                                                  NaN  ...           NaN   \n",
       "...                                                   ...  ...           ...   \n",
       "606527                                                NaN  ...        1 of 2   \n",
       "606528                                                NaN  ...           NaN   \n",
       "606529                                                NaN  ...        2 of 2   \n",
       "606530  Turnover by R. Rondo (bad pass; steal by D. Cu...  ...           NaN   \n",
       "606531                                        End of Game  ...           NaN   \n",
       "\n",
       "                  EnterGame          LeaveGame  TurnoverPlayer TurnoverType  \\\n",
       "5380                    NaN                NaN             NaN          NaN   \n",
       "5381                    NaN                NaN             NaN          NaN   \n",
       "5382                    NaN                NaN             NaN          NaN   \n",
       "5383                    NaN                NaN             NaN          NaN   \n",
       "5384                    NaN                NaN             NaN          NaN   \n",
       "...                     ...                ...             ...          ...   \n",
       "606527                  NaN                NaN             NaN          NaN   \n",
       "606528  D. Cunningham - SAS  L. Aldridge - SAS             NaN          NaN   \n",
       "606529                  NaN                NaN             NaN          NaN   \n",
       "606530                  NaN                NaN  R. Rondo - LAL     bad pass   \n",
       "606531                  NaN                NaN             NaN          NaN   \n",
       "\n",
       "       TurnoverCause       TurnoverCauser  JumpballAwayPlayer  \\\n",
       "5380             NaN                  NaN      K. Towns - MIN   \n",
       "5381             NaN                  NaN                 NaN   \n",
       "5382             NaN                  NaN                 NaN   \n",
       "5383             NaN                  NaN                 NaN   \n",
       "5384             NaN                  NaN                 NaN   \n",
       "...              ...                  ...                 ...   \n",
       "606527           NaN                  NaN                 NaN   \n",
       "606528           NaN                  NaN                 NaN   \n",
       "606529           NaN                  NaN                 NaN   \n",
       "606530         steal  D. Cunningham - SAS                 NaN   \n",
       "606531           NaN                  NaN                 NaN   \n",
       "\n",
       "       JumpballHomePlayer JumpballPoss  \n",
       "5380      J. Poeltl - SAS    T. Gibson  \n",
       "5381                  NaN          NaN  \n",
       "5382                  NaN          NaN  \n",
       "5383                  NaN          NaN  \n",
       "5384                  NaN          NaN  \n",
       "...                   ...          ...  \n",
       "606527                NaN          NaN  \n",
       "606528                NaN          NaN  \n",
       "606529                NaN          NaN  \n",
       "606530                NaN          NaN  \n",
       "606531                NaN          NaN  \n",
       "\n",
       "[40061 rows x 40 columns]"
      ]
     },
     "execution_count": 17,
     "metadata": {},
     "output_type": "execute_result"
    }
   ],
   "source": [
    "# playbyplayData[playbyplayData['AwayTeam'] == \"SAS\"] \n",
    "\n",
    "\n",
    "spurs_pbp = playbyplayData.loc[(playbyplayData['AwayTeam'] == \"SAS\") | \n",
    "          (playbyplayData['HomeTeam']==\"SAS\")] \n",
    "\n",
    "spurs_pbp"
   ]
  },
  {
   "cell_type": "code",
   "execution_count": 19,
   "metadata": {},
   "outputs": [],
   "source": [
    "spurs_pbp_clean = spurs_pbp[spurs_pbp.ShotOutcome != \"miss\"]\n",
    "spurs_pbp_clean = spurs_pbp_clean.dropna(subset = [\"ShotOutcome\"])\n",
    "spurs_pbp_clean = spurs_pbp_clean.dropna(subset = [\"ShotDist\"])"
   ]
  },
  {
   "cell_type": "code",
   "execution_count": 22,
   "metadata": {},
   "outputs": [],
   "source": [
    "spurs_pbp_clean_dist = spurs_pbp_clean['ShotDist']\n",
    "spurs_pbp_clean_dist = spurs_pbp_clean_dist.to_numpy().reshape(-1, 1)"
   ]
  },
  {
   "cell_type": "code",
   "execution_count": 24,
   "metadata": {},
   "outputs": [
    {
     "data": {
      "text/plain": [
       "28"
      ]
     },
     "execution_count": 24,
     "metadata": {},
     "output_type": "execute_result"
    }
   ],
   "source": [
    "freedman_diaconis(data = spurs_pbp_clean_dist, returnas = \"bins\")"
   ]
  },
  {
   "cell_type": "code",
   "execution_count": 26,
   "metadata": {},
   "outputs": [
    {
     "data": {
      "image/png": "[encoded data removed]",
      "text/plain": [
       "<Figure size 1200x480 with 1 Axes>"
      ]
     },
     "metadata": {},
     "output_type": "display_data"
    }
   ],
   "source": [
    "from matplotlib.pyplot import figure\n",
    "figure(num=None, figsize=(15, 6), dpi=80, facecolor='w', edgecolor='k')\n",
    "plt.title('2018-19 Spurs Made Shot Distances')\n",
    "plt.xlabel('Shot Distance (ft)')\n",
    "plt.ylabel('Number of made shots')\n",
    "plt.hist(spurs_pbp_clean_dist, bins = 28)\n",
    "plt.xticks(np.arange(0, 40, step=1))\n",
    "plt.show()"
   ]
  },
  {
   "cell_type": "markdown",
   "metadata": {},
   "source": [
    "#### Visualizing the distribution of made shots is useful but we really need the % for each distance category. Let's use San Antonio Spurs (SAS)"
   ]
  },
  {
   "cell_type": "code",
   "execution_count": 41,
   "metadata": {},
   "outputs": [
    {
     "data": {
      "text/plain": [
       "(7428, 40)"
      ]
     },
     "execution_count": 41,
     "metadata": {},
     "output_type": "execute_result"
    }
   ],
   "source": [
    "spurs_pbp_clean.shape"
   ]
  },
  {
   "cell_type": "code",
   "execution_count": 45,
   "metadata": {},
   "outputs": [
    {
     "data": {
      "text/plain": [
       "3347"
      ]
     },
     "execution_count": 45,
     "metadata": {},
     "output_type": "execute_result"
    }
   ],
   "source": [
    "# spurs_pbp_clean.groupby((spurs_pbp_clean['ShotDist'] >= 0) & (spurs_pbp_clean['ShotDist'] <= 7)).count()\n",
    "\n",
    "sum((spurs_pbp_clean['ShotDist'] >= 0) & (spurs_pbp_clean['ShotDist'] <= 7))"
   ]
  },
  {
   "cell_type": "code",
   "execution_count": 46,
   "metadata": {},
   "outputs": [
    {
     "data": {
      "text/plain": [
       "1095"
      ]
     },
     "execution_count": 46,
     "metadata": {},
     "output_type": "execute_result"
    }
   ],
   "source": [
    "sum((spurs_pbp_clean['ShotDist'] >= 8) & (spurs_pbp_clean['ShotDist'] <= 14))"
   ]
  },
  {
   "cell_type": "code",
   "execution_count": 47,
   "metadata": {},
   "outputs": [
    {
     "data": {
      "text/plain": [
       "1097"
      ]
     },
     "execution_count": 47,
     "metadata": {},
     "output_type": "execute_result"
    }
   ],
   "source": [
    "sum((spurs_pbp_clean['ShotDist'] >= 15) & (spurs_pbp_clean['ShotDist'] <= 22))"
   ]
  },
  {
   "cell_type": "code",
   "execution_count": 48,
   "metadata": {},
   "outputs": [
    {
     "data": {
      "text/plain": [
       "1866"
      ]
     },
     "execution_count": 48,
     "metadata": {},
     "output_type": "execute_result"
    }
   ],
   "source": [
    "sum((spurs_pbp_clean['ShotDist'] >= 23) & (spurs_pbp_clean['ShotDist'] <= 29))"
   ]
  },
  {
   "cell_type": "code",
   "execution_count": 49,
   "metadata": {},
   "outputs": [
    {
     "data": {
      "text/plain": [
       "23"
      ]
     },
     "execution_count": 49,
     "metadata": {},
     "output_type": "execute_result"
    }
   ],
   "source": [
    "sum(spurs_pbp_clean['ShotDist'] >= 30)"
   ]
  },
  {
   "cell_type": "code",
   "execution_count": 51,
   "metadata": {},
   "outputs": [
    {
     "data": {
      "text/plain": [
       "0.45059235325794295"
      ]
     },
     "execution_count": 51,
     "metadata": {},
     "output_type": "execute_result"
    }
   ],
   "source": [
    "3347/7428"
   ]
  },
  {
   "cell_type": "code",
   "execution_count": 52,
   "metadata": {},
   "outputs": [
    {
     "data": {
      "text/plain": [
       "0.1474151857835218"
      ]
     },
     "execution_count": 52,
     "metadata": {},
     "output_type": "execute_result"
    }
   ],
   "source": [
    "1095/7428"
   ]
  },
  {
   "cell_type": "code",
   "execution_count": 53,
   "metadata": {},
   "outputs": [
    {
     "data": {
      "text/plain": [
       "0.14768443726440494"
      ]
     },
     "execution_count": 53,
     "metadata": {},
     "output_type": "execute_result"
    }
   ],
   "source": [
    "1097/7428"
   ]
  },
  {
   "cell_type": "code",
   "execution_count": 54,
   "metadata": {},
   "outputs": [
    {
     "data": {
      "text/plain": [
       "0.25121163166397414"
      ]
     },
     "execution_count": 54,
     "metadata": {},
     "output_type": "execute_result"
    }
   ],
   "source": [
    "1866/7428"
   ]
  },
  {
   "cell_type": "code",
   "execution_count": 55,
   "metadata": {},
   "outputs": [
    {
     "data": {
      "text/plain": [
       "0.0030963920301561657"
      ]
     },
     "execution_count": 55,
     "metadata": {},
     "output_type": "execute_result"
    }
   ],
   "source": [
    "23/7428"
   ]
  },
  {
   "cell_type": "code",
   "execution_count": null,
   "metadata": {},
   "outputs": [],
   "source": []
  }
 ],
 "metadata": {
  "kernelspec": {
   "display_name": "Python 3",
   "language": "python",
   "name": "python3"
  },
  "language_info": {
   "codemirror_mode": {
    "name": "ipython",
    "version": 3
   },
   "file_extension": ".py",
   "mimetype": "text/x-python",
   "name": "python",
   "nbconvert_exporter": "python",
   "pygments_lexer": "ipython3",
   "version": "3.6.8"
  }
 },
 "nbformat": 4,
 "nbformat_minor": 2
}
